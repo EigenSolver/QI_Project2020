{
 "cells": [
  {
   "cell_type": "code",
   "execution_count": null,
   "metadata": {},
   "outputs": [],
   "source": [
    "from getpass import getpass\n",
    "from coreapi.auth import BasicAuthentication\n",
    "from quantuminspire.api import QuantumInspireAPI\n",
    "from quantuminspire.credentials import load_account, get_token_authentication, get_basic_authentication\n",
    "from quantuminspire.api import QuantumInspireAPI\n",
    "from qiskit import IBMQ, QuantumRegister, ClassicalRegister, QuantumCircuit, assemble, transpile\n",
    "from qiskit.providers.ibmq import least_busy\n",
    "from qiskit.circuit import Parameter \n",
    "\n",
    "\n",
    "\n",
    "import numpy as np\n",
    "import pandas as pd\n",
    "import plotly.express as px"
   ]
  },
  {
   "cell_type": "code",
   "execution_count": null,
   "metadata": {},
   "outputs": [],
   "source": [
    "theta_param = Parameter('theta_param')\n",
    "\n",
    "qreg_q = QuantumRegister(2, 'q')\n",
    "creg_c = ClassicalRegister(2, 'c')\n",
    "circuit = QuantumCircuit(qreg_q, creg_c)\n",
    "\n",
    "circuit.ry(theta_param, qreg_q[0])\n",
    "circuit.sdg(qreg_q[1])\n",
    "circuit.h(qreg_q[1])\n",
    "circuit.tdg(qreg_q[1])\n",
    "circuit.cx(qreg_q[0], qreg_q[1])\n",
    "circuit.t(qreg_q[1])\n",
    "circuit.h(qreg_q[1])\n",
    "circuit.s(qreg_q[1])\n",
    "circuit.cx(qreg_q[1], qreg_q[0])\n",
    "circuit.ry(-theta_param, qreg_q[1])\n",
    "circuit.measure(qreg_q[1], creg_c[1])"
   ]
  },
  {
   "cell_type": "code",
   "execution_count": null,
   "metadata": {},
   "outputs": [],
   "source": [
    "IBMQ.save_account('')\n",
    "\n",
    "N_shots=1024\n",
    "provider = IBMQ.load_account()\n",
    "\n",
    "#backend = least_busy(provider.backends(simulator=False))\n",
    "#print(backend)\n",
    "backend = provider.backends.ibmq_santiago"
   ]
  },
  {
   "cell_type": "code",
   "execution_count": null,
   "metadata": {},
   "outputs": [],
   "source": [
    "N_shots=1024\n",
    "N=100\n",
    "runningjobs=[]\n",
    "job_ids=[]\n",
    "index=0\n",
    "points=(np.linspace(0,np.pi,N),np.zeros(N))\n",
    "\n",
    "while index*75 < num_pts:\n",
    "    if((index+1)*75<num_pts):\n",
    "        circuits = [circuit.bind_parameters(\n",
    "        {theta_param: points[0], phi_param: points[1]}) \n",
    "         for points in coords[index*75:(index+1)*75]]\n",
    "        qobj = assemble(transpile(circuits, backend=backend), backend=backend, shots=N_shots)\n",
    "        runningjobs.append(backend.run(qobj))\n",
    "        job_ids.append(runningjobs[-1].job_id())\n",
    "        with open('job_ids_santiago.txt', 'a') as file:\n",
    "            file.write(runningjobs[-1].job_id()+\"\\n\")\n",
    "        if(backend.job_limit().active_jobs == backend.job_limit().maximum_jobs):\n",
    "            print(\"Maximum number of jobs reached. Waiting...\")\n",
    "            try:\n",
    "                job_result = runningjobs[0].result()  # It will block until the job finishes.\n",
    "                print(\"The job finished with result {}\".format(job_result))\n",
    "                runningjobs.pop(0)\n",
    "            except JobError as ex:\n",
    "                print(\"Something wrong happened!: {}\".format(ex))\n",
    "    else:\n",
    "        circuits = [circuit.bind_parameters(\n",
    "        {theta_param: points[0], phi_param: points[1]}) \n",
    "         for points in coords[index*75:]]\n",
    "        qobj = assemble(transpile(circuits, backend=backend), backend=backend, shots=N_shots)\n",
    "        runningjobs.append(backend.run(qobj))\n",
    "        job_ids.append(runningjobs[-1].job_id())\n",
    "        with open('job_ids_santiago.txt', 'a') as file:\n",
    "            file.write(runningjobs[-1].job_id()+\"\\n\")\n",
    "        if(backend.job_limit().active_jobs == backend.job_limit().maximum_jobs):\n",
    "            print(\"Maximum number of jobs reached. Waiting...\")\n",
    "            try:\n",
    "                job_result = runningjobs[0].result()  # It will block until the job finishes.\n",
    "                print(\"The job finished with result {}\".format(job_result))\n",
    "                runningjobs.pop(0)\n",
    "            except JobError as ex:\n",
    "                print(\"Something wrong happened!: {}\".format(ex))\n",
    "    index=index+1"
   ]
  },
  {
   "cell_type": "code",
   "execution_count": null,
   "metadata": {
    "scrolled": true
   },
   "outputs": [],
   "source": [
    "read_job_ids = open(\"job_ids_santiago.txt\").read().splitlines()\n",
    "counts_array=[]\n",
    "results_probabilities=[]\n",
    "retrieved_jobs=[backend.retrieve_job(jobid) for jobid in read_job_ids]\n",
    "for job in retrieved_jobs:\n",
    "    counts_array=counts_array+job.result().get_counts()\n",
    "for job in counts_array:\n",
    "    results_probabilities.append((job[\"000\"]/N_shots,job[\"001\"]/N_shots))\n",
    "results_probabilities=np.array(results_probabilities)"
   ]
  },
  {
   "cell_type": "code",
   "execution_count": null,
   "metadata": {
    "scrolled": true
   },
   "outputs": [],
   "source": [
    "data_sheet=pd.DataFrame(data=np.hstack((target_points,results_probabilities)),columns=[\"θ\",\"ϕ\",\"prob_0\",\"prob_1\"])"
   ]
  },
  {
   "cell_type": "code",
   "execution_count": null,
   "metadata": {
    "scrolled": true
   },
   "outputs": [],
   "source": [
    "data_sheet.head()"
   ]
  },
  {
   "cell_type": "code",
   "execution_count": null,
   "metadata": {
    "scrolled": true
   },
   "outputs": [],
   "source": [
    "for (point,probabilities) in zip(target_points,results_probabilities):\n",
    "    with open('results_ibm_santiago.txt', 'a') as file:\n",
    "        file.write(str(point[0])+\"\\t\"+str(point[1])+\"\\t\"+str(probabilities[0])+\"\\t\"+str(probabilities[1])+\"\\n\")"
   ]
  },
  {
   "cell_type": "code",
   "execution_count": null,
   "metadata": {
    "scrolled": true
   },
   "outputs": [],
   "source": [
    "data_sheet=pd.DataFrame(data=np.hstack((target_points,results_probabilities)),columns=[\"θ\",\"ϕ\",\"prob_0\",\"prob_1\"])"
   ]
  },
  {
   "cell_type": "code",
   "execution_count": null,
   "metadata": {
    "scrolled": true
   },
   "outputs": [],
   "source": [
    "data_sheet.head()"
   ]
  },
  {
   "cell_type": "code",
   "execution_count": null,
   "metadata": {
    "scrolled": true
   },
   "outputs": [],
   "source": [
    "# save to excel, optional\n",
    "data_sheet.to_excel(\"data_sheet_ibm_santiago.xlsx\")"
   ]
  },
  {
   "cell_type": "code",
   "execution_count": null,
   "metadata": {
    "scrolled": true
   },
   "outputs": [],
   "source": [
    "data_sheet=pd.read_excel(\"data_sheet_ibm_santiago.xlsx\")"
   ]
  },
  {
   "cell_type": "code",
   "execution_count": null,
   "metadata": {},
   "outputs": [],
   "source": [
    "# Make data.\n",
    "thetas=data_sheet[\"θ\"]\n",
    "phis=data_sheet[\"ϕ\"]\n",
    "x, y, z = np.cos(phis) * np.sin(thetas), np.sin(phis) * np.sin(thetas), np.cos(thetas)\n",
    "# Plot the surface. F_measured/F_theory\n",
    "df = px.data.iris()\n",
    "fig = px.scatter_3d(df, x, y, z, color=data_sheet.prob_0/(5/6), template=\"plotly_white\")\n",
    "\n",
    "fig.show()\n",
    "print(\"Number of points: \", len(x))\n",
    "print(\"Average fidelity: \", np.average(data_sheet.prob_0))\n",
    "print(\"Standard deviation: \", np.std(data_sheet.prob_0))\n"
   ]
  }
 ],
 "metadata": {
  "kernelspec": {
   "display_name": "Python 3",
   "language": "python",
   "name": "python3"
  },
  "language_info": {
   "codemirror_mode": {
    "name": "ipython",
    "version": 3
   },
   "file_extension": ".py",
   "mimetype": "text/x-python",
   "name": "python",
   "nbconvert_exporter": "python",
   "pygments_lexer": "ipython3",
   "version": "3.7.4"
  }
 },
 "nbformat": 4,
 "nbformat_minor": 4
}
