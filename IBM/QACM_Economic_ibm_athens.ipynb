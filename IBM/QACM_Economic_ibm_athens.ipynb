{
 "cells": [
  {
   "cell_type": "code",
   "execution_count": 7,
   "metadata": {},
   "outputs": [],
   "source": [
    "from getpass import getpass\n",
    "from coreapi.auth import BasicAuthentication\n",
    "from quantuminspire.api import QuantumInspireAPI\n",
    "from quantuminspire.credentials import load_account, get_token_authentication, get_basic_authentication\n",
    "from quantuminspire.api import QuantumInspireAPI\n",
    "from qiskit import IBMQ, QuantumRegister, ClassicalRegister, QuantumCircuit, assemble, transpile\n",
    "from qiskit.providers.ibmq import least_busy\n",
    "from qiskit.circuit import Parameter \n",
    "\n",
    "\n",
    "\n",
    "import numpy as np\n",
    "import pandas as pd\n",
    "import plotly.express as px"
   ]
  },
  {
   "cell_type": "code",
   "execution_count": 8,
   "metadata": {},
   "outputs": [
    {
     "data": {
      "text/plain": [
       "<qiskit.circuit.instructionset.InstructionSet at 0x7f776259f9d0>"
      ]
     },
     "execution_count": 8,
     "metadata": {},
     "output_type": "execute_result"
    }
   ],
   "source": [
    "theta_param, phi_param = Parameter('theta_param'), Parameter('phi_param') \n",
    "\n",
    "qreg_q = QuantumRegister(2, 'q')\n",
    "creg_c = ClassicalRegister(2, 'c')\n",
    "circuit = QuantumCircuit(qreg_q, creg_c)\n",
    "\n",
    "circuit.ry(theta_param, qreg_q[0])\n",
    "circuit.rz(phi_param, qreg_q[0])\n",
    "\n",
    "circuit.rx(-np.pi/2, qreg_q[0])\n",
    "circuit.sdg(qreg_q[1])\n",
    "circuit.h(qreg_q[1])\n",
    "circuit.tdg(qreg_q[1])\n",
    "circuit.cx(qreg_q[0], qreg_q[1])\n",
    "circuit.t(qreg_q[1])\n",
    "circuit.h(qreg_q[1])\n",
    "circuit.s(qreg_q[1])\n",
    "circuit.cx(qreg_q[1], qreg_q[0])\n",
    "circuit.rx(np.pi/2, qreg_q[0])\n",
    "circuit.rx(np.pi/2, qreg_q[1])\n",
    "\n",
    "circuit.rz(-phi_param, qreg_q[0])\n",
    "circuit.ry(-theta_param, qreg_q[1])\n",
    "circuit.measure(qreg_q[1], creg_c[1])"
   ]
  },
  {
   "cell_type": "code",
   "execution_count": 9,
   "metadata": {},
   "outputs": [
    {
     "name": "stderr",
     "output_type": "stream",
     "text": [
      "ibmqfactory.load_account:WARNING:2020-12-27 16:26:40,453: Credentials are already in use. The existing account in the session will be replaced.\n"
     ]
    }
   ],
   "source": [
    "# IBMQ.save_account(token=)\n",
    "\n",
    "N_shots=1024\n",
    "provider = IBMQ.load_account()\n",
    "\n",
    "#backend = least_busy(provider.backends(simulator=False))\n",
    "#print(backend)\n",
    "backend = provider.backends.ibmq_santiago"
   ]
  },
  {
   "cell_type": "code",
   "execution_count": 10,
   "metadata": {},
   "outputs": [],
   "source": [
    "num_pts = 1000\n",
    "indices = np.arange(0, num_pts, dtype=float) + 0.5\n",
    "\n",
    "theta = np.arccos(1 - 2*indices/num_pts)\n",
    "phi = (np.pi * (1 + 5**0.5) * indices)%(2*np.pi)\n",
    "coords=[]\n",
    "\n",
    "for theta_elem,phi_elem in zip(theta,phi):\n",
    "    coords.append((theta_elem,phi_elem))\n",
    "    "
   ]
  },
  {
   "cell_type": "code",
   "execution_count": 11,
   "metadata": {},
   "outputs": [
    {
     "name": "stdout",
     "output_type": "stream",
     "text": [
      "Maximum number of jobs reached. Waiting...\n",
      "The job finished with result <qiskit.result.result.Result object at 0x7f7762302550>\n",
      "Maximum number of jobs reached. Waiting...\n",
      "The job finished with result <qiskit.result.result.Result object at 0x7f77612f4050>\n",
      "Maximum number of jobs reached. Waiting...\n",
      "The job finished with result <qiskit.result.result.Result object at 0x7f7761b8cdd0>\n",
      "Maximum number of jobs reached. Waiting...\n",
      "The job finished with result <qiskit.result.result.Result object at 0x7f77622a3890>\n",
      "Maximum number of jobs reached. Waiting...\n",
      "The job finished with result <qiskit.result.result.Result object at 0x7f77621ee090>\n",
      "Maximum number of jobs reached. Waiting...\n",
      "The job finished with result <qiskit.result.result.Result object at 0x7f7761c16910>\n",
      "Maximum number of jobs reached. Waiting...\n",
      "The job finished with result <qiskit.result.result.Result object at 0x7f776244b890>\n",
      "Maximum number of jobs reached. Waiting...\n",
      "The job finished with result <qiskit.result.result.Result object at 0x7f773148e090>\n",
      "Maximum number of jobs reached. Waiting...\n",
      "The job finished with result <qiskit.result.result.Result object at 0x7f7760688350>\n",
      "Maximum number of jobs reached. Waiting...\n",
      "The job finished with result <qiskit.result.result.Result object at 0x7f77611db050>\n"
     ]
    }
   ],
   "source": [
    "runningjobs=[]\n",
    "job_ids=[]\n",
    "index=0\n",
    "\n",
    "while index*75 < num_pts:\n",
    "    if((index+1)*75<num_pts):\n",
    "        circuits = [circuit.bind_parameters(\n",
    "        {theta_param: points[0], phi_param: points[1]}) \n",
    "         for points in coords[index*75:(index+1)*75]]\n",
    "        qobj = assemble(transpile(circuits, backend=backend), backend=backend, shots=N_shots)\n",
    "        runningjobs.append(backend.run(qobj))\n",
    "        job_ids.append(runningjobs[-1].job_id())\n",
    "        with open('job_ids_santiago.txt', 'a') as file:\n",
    "            file.write(runningjobs[-1].job_id()+\"\\n\")\n",
    "        if(backend.job_limit().active_jobs == backend.job_limit().maximum_jobs):\n",
    "            print(\"Maximum number of jobs reached. Waiting...\")\n",
    "            try:\n",
    "                job_result = runningjobs[0].result()  # It will block until the job finishes.\n",
    "                print(\"The job finished with result {}\".format(job_result))\n",
    "                runningjobs.pop(0)\n",
    "            except JobError as ex:\n",
    "                print(\"Something wrong happened!: {}\".format(ex))\n",
    "    else:\n",
    "        circuits = [circuit.bind_parameters(\n",
    "        {theta_param: points[0], phi_param: points[1]}) \n",
    "         for points in coords[index*75:]]\n",
    "        qobj = assemble(transpile(circuits, backend=backend), backend=backend, shots=N_shots)\n",
    "        runningjobs.append(backend.run(qobj))\n",
    "        job_ids.append(runningjobs[-1].job_id())\n",
    "        with open('job_ids_santiago.txt', 'a') as file:\n",
    "            file.write(runningjobs[-1].job_id()+\"\\n\")\n",
    "        if(backend.job_limit().active_jobs == backend.job_limit().maximum_jobs):\n",
    "            print(\"Maximum number of jobs reached. Waiting...\")\n",
    "            try:\n",
    "                job_result = runningjobs[0].result()  # It will block until the job finishes.\n",
    "                print(\"The job finished with result {}\".format(job_result))\n",
    "                runningjobs.pop(0)\n",
    "            except JobError as ex:\n",
    "                print(\"Something wrong happened!: {}\".format(ex))\n",
    "    index=index+1"
   ]
  }
 ],
 "metadata": {
  "kernelspec": {
   "display_name": "Python 3",
   "language": "python",
   "name": "python3"
  },
  "language_info": {
   "codemirror_mode": {
    "name": "ipython",
    "version": 3
   },
   "file_extension": ".py",
   "mimetype": "text/x-python",
   "name": "python",
   "nbconvert_exporter": "python",
   "pygments_lexer": "ipython3",
   "version": "3.7.4"
  }
 },
 "nbformat": 4,
 "nbformat_minor": 4
}
