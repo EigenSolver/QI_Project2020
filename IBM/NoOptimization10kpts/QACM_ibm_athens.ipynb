{
 "cells": [
  {
   "cell_type": "code",
   "execution_count": null,
   "metadata": {},
   "outputs": [],
   "source": [
    "from getpass import getpass\n",
    "from coreapi.auth import BasicAuthentication\n",
    "from quantuminspire.api import QuantumInspireAPI\n",
    "from quantuminspire.credentials import load_account, get_token_authentication, get_basic_authentication\n",
    "from quantuminspire.api import QuantumInspireAPI\n",
    "from qiskit import IBMQ, QuantumRegister, ClassicalRegister, QuantumCircuit, assemble, transpile\n",
    "from qiskit.providers.ibmq import least_busy\n",
    "from qiskit.circuit import Parameter \n",
    "\n",
    "\n",
    "\n",
    "import numpy as np\n",
    "import pandas as pd\n",
    "import plotly.express as px"
   ]
  },
  {
   "cell_type": "code",
   "execution_count": null,
   "metadata": {},
   "outputs": [],
   "source": [
    "#https://stackoverflow.com/questions/9600801/evenly-distributing-n-points-on-a-sphere\n",
    "#Create n evenly distributed points on a sphere\n",
    "\n",
    "num_pts = 10000\n",
    "indices = np.arange(0, num_pts, dtype=float) + 0.5\n",
    "\n",
    "theta = np.arccos(1 - 2*indices/num_pts)\n",
    "phi = (np.pi * (1 + 5**0.5) * indices)%(2*np.pi)\n",
    "coords=[]\n",
    "\n",
    "for theta_elem,phi_elem in zip(theta,phi):\n",
    "    coords.append((theta_elem,phi_elem))\n",
    "\n",
    "x, y, z = np.cos(phi) * np.sin(theta), np.sin(phi) * np.sin(theta), np.cos(theta);\n",
    "\n",
    "# Plot the surface.\n",
    "df = px.data.iris()\n",
    "fig = px.scatter_3d(df, x, y, z, template=\"plotly_white\")\n",
    "\n",
    "fig.show()\n",
    "target_points=np.array(coords)\n",
    "# save the data, optional\n",
    "np.savetxt(\"target_points_ibmq_athens.csv\",target_points)"
   ]
  },
  {
   "cell_type": "code",
   "execution_count": null,
   "metadata": {},
   "outputs": [],
   "source": [
    "theta_param, phi_param = Parameter('theta_param'), Parameter('phi_param') \n",
    "\n",
    "qreg_q = QuantumRegister(3, 'q')\n",
    "creg_c = ClassicalRegister(3, 'c')\n",
    "circuit = QuantumCircuit(qreg_q, creg_c)\n",
    "\n",
    "circuit.ry(theta_param, qreg_q[0])\n",
    "circuit.rz(phi_param, qreg_q[0])\n",
    "    \n",
    "circuit.ry(1.107149, qreg_q[1])\n",
    "circuit.cx(qreg_q[1], qreg_q[2])\n",
    "circuit.ry(0.729728, qreg_q[2])\n",
    "circuit.cx(qreg_q[2], qreg_q[1])\n",
    "circuit.ry(0.463648, qreg_q[1])\n",
    "circuit.cx(qreg_q[0], qreg_q[1])\n",
    "circuit.cx(qreg_q[0], qreg_q[2])\n",
    "circuit.cx(qreg_q[1], qreg_q[0])\n",
    "circuit.cx(qreg_q[2], qreg_q[0])\n",
    "\n",
    "circuit.rz(-phi_param, qreg_q[0])\n",
    "circuit.ry(-theta_param, qreg_q[0])\n",
    "circuit.rz(-phi_param, qreg_q[1])\n",
    "circuit.ry(-theta_param, qreg_q[1])\n",
    "\n",
    "circuit.measure(qreg_q[0], creg_c[0])\n",
    "circuit.measure(qreg_q[1], creg_c[1])"
   ]
  },
  {
   "cell_type": "code",
   "execution_count": null,
   "metadata": {},
   "outputs": [],
   "source": [
    "IBMQ.save_account('YOUR_TOKEN')\n",
    "\n",
    "N_shots=8192\n",
    "provider = IBMQ.load_account()\n",
    "\n",
    "#backend = least_busy(provider.backends(simulator=False))\n",
    "#print(backend)\n",
    "backend = provider.backends.ibmq_athens"
   ]
  },
  {
   "cell_type": "code",
   "execution_count": null,
   "metadata": {},
   "outputs": [],
   "source": [
    "runningjobs=[]\n",
    "job_ids=[]\n",
    "index=130\n",
    "\n",
    "while index*75 < num_pts:\n",
    "    if((index+1)*75<num_pts):\n",
    "        circuits = [circuit.bind_parameters(\n",
    "        {theta_param: points[0], phi_param: points[1]}) \n",
    "         for points in coords[index*75:(index+1)*75]]\n",
    "        qobj = assemble(transpile(circuits, backend=backend, optimization_level=0), backend=backend, shots=N_shots)\n",
    "        runningjobs.append(backend.run(qobj))\n",
    "        job_ids.append(runningjobs[-1].job_id())\n",
    "        with open('job_ids_athens.txt', 'a') as file:\n",
    "            file.write(runningjobs[-1].job_id()+\"\\n\")\n",
    "        if(backend.job_limit().active_jobs == backend.job_limit().maximum_jobs):\n",
    "            print(\"Maximum number of jobs reached. Waiting...\")\n",
    "            try:\n",
    "                job_result = runningjobs[0].result()  # It will block until the job finishes.\n",
    "                print(\"The job finished with result {}\".format(job_result))\n",
    "                runningjobs.pop(0)\n",
    "            except JobError as ex:\n",
    "                print(\"Something wrong happened!: {}\".format(ex))\n",
    "    else:\n",
    "        circuits = [circuit.bind_parameters(\n",
    "        {theta_param: points[0], phi_param: points[1]}) \n",
    "         for points in coords[index*75:]]\n",
    "        qobj = assemble(transpile(circuits, backend=backend, optimization_level=0), backend=backend, shots=N_shots)\n",
    "        runningjobs.append(backend.run(qobj))\n",
    "        job_ids.append(runningjobs[-1].job_id())\n",
    "        with open('job_ids_athens.txt', 'a') as file:\n",
    "            file.write(runningjobs[-1].job_id()+\"\\n\")\n",
    "        if(backend.job_limit().active_jobs == backend.job_limit().maximum_jobs):\n",
    "            print(\"Maximum number of jobs reached. Waiting...\")\n",
    "            try:\n",
    "                job_result = runningjobs[0].result()  # It will block until the job finishes.\n",
    "                print(\"The job finished with result {}\".format(job_result))\n",
    "                runningjobs.pop(0)\n",
    "            except JobError as ex:\n",
    "                print(\"Something wrong happened!: {}\".format(ex))\n",
    "    index=index+1"
   ]
  },
  {
   "cell_type": "code",
   "execution_count": null,
   "metadata": {},
   "outputs": [],
   "source": [
    "print(index)"
   ]
  },
  {
   "cell_type": "code",
   "execution_count": null,
   "metadata": {},
   "outputs": [],
   "source": [
    "read_job_ids = open(\"job_ids_athens.txt\").read().splitlines()\n",
    "counts_array=[]\n",
    "results_probabilities=[]\n",
    "retrieved_jobs=[backend.retrieve_job(jobid) for jobid in read_job_ids]\n",
    "for job in retrieved_jobs:\n",
    "    counts_array=counts_array+job.result().get_counts()\n",
    "for job in counts_array:\n",
    "    #test both the copies\n",
    "    marg_prob0_qubit0=job[\"000\"]/N_shots+job[\"010\"]/N_shots #calculate the marginal distribution\n",
    "    marg_prob0_qubit1=job[\"000\"]/N_shots+job[\"001\"]/N_shots #calculate the marginal distribution\n",
    "    marg_prob1_qubit0=1-marg_prob0_qubit0\n",
    "    marg_prob1_qubit1=1-marg_prob0_qubit1\n",
    "    results_probabilities.append([marg_prob0_qubit0,marg_prob1_qubit0, marg_prob0_qubit1, marg_prob1_qubit1])\n",
    "    \n",
    "results_probabilities=np.array(results_probabilities)"
   ]
  },
  {
   "cell_type": "code",
   "execution_count": null,
   "metadata": {},
   "outputs": [],
   "source": [
    "data_sheet=pd.DataFrame(data=np.hstack((target_points,results_probabilities)),columns=[\"θ\",\"ϕ\",\"prob_0_qubit_0\",\"prob_1_qubit_0\",\"prob_0_qubit_1\",\"prob_1_qubit_1\"])"
   ]
  },
  {
   "cell_type": "code",
   "execution_count": null,
   "metadata": {},
   "outputs": [],
   "source": [
    "data_sheet.head()"
   ]
  },
  {
   "cell_type": "code",
   "execution_count": null,
   "metadata": {},
   "outputs": [],
   "source": [
    "for (point,probabilities) in zip(target_points,results_probabilities):\n",
    "    with open('results_ibm_athens.txt', 'a') as file:\n",
    "        file.write(str(point[0])+\"\\t\"+str(point[1])+\"\\t\"+str(probabilities[0])+\"\\t\"+str(probabilities[1])+\"\\t\"+\n",
    "                   str(probabilities[2])+\"\\t\"+str(probabilities[3])+\"\\n\")"
   ]
  },
  {
   "cell_type": "code",
   "execution_count": null,
   "metadata": {},
   "outputs": [],
   "source": [
    "# save to excel, optional\n",
    "data_sheet.to_excel(\"data_sheet_ibm_athens.xlsx\")"
   ]
  },
  {
   "cell_type": "code",
   "execution_count": null,
   "metadata": {},
   "outputs": [],
   "source": [
    "data_sheet=pd.read_excel(\"data_sheet_ibm_athens.xlsx\")"
   ]
  },
  {
   "cell_type": "code",
   "execution_count": null,
   "metadata": {},
   "outputs": [],
   "source": [
    "#FIDELITY OF FIRST COPY\n",
    "# Make data.\n",
    "thetas=data_sheet[\"θ\"]\n",
    "phis=data_sheet[\"ϕ\"]\n",
    "x, y, z = np.cos(phis) * np.sin(thetas), np.sin(phis) * np.sin(thetas), np.cos(thetas);\n",
    "\n",
    "# Plot the surface. F_measured/F_theory\n",
    "df = px.data.iris()\n",
    "fig = px.scatter_3d(df, x, y, z, color=data_sheet.prob_0_qubit_0/(5/6), template=\"plotly_white\")\n",
    "\n",
    "fig.show()\n",
    "print(\"Number of points: \", len(x))\n",
    "print(\"Average fidelity: \", np.average(data_sheet.prob_0_qubit_0))\n",
    "print(\"Standard deviation: \", np.std(data_sheet.prob_0_qubit_0))"
   ]
  },
  {
   "cell_type": "code",
   "execution_count": null,
   "metadata": {},
   "outputs": [],
   "source": [
    "#FIDELITY OF SECOND COPY\n",
    "# Plot the surface. F_measured/F_theory\n",
    "df = px.data.iris()\n",
    "fig = px.scatter_3d(df, x, y, z, color=data_sheet.prob_0_qubit_1/(5/6), template=\"plotly_white\")\n",
    "\n",
    "fig.show()\n",
    "print(\"Number of points: \", len(x))\n",
    "print(\"Average fidelity: \", np.average(data_sheet.prob_0_qubit_1))\n",
    "print(\"Standard deviation: \", np.std(data_sheet.prob_0_qubit_1))"
   ]
  },
  {
   "cell_type": "code",
   "execution_count": null,
   "metadata": {},
   "outputs": [],
   "source": [
    "#CHECK SYMMETRY, I.E. PLOT fidelity of qubit 0/fidelity of qubit 2\n",
    "\n",
    "df = px.data.iris()\n",
    "ratio=data_sheet.prob_0_qubit_0/data_sheet.prob_0_qubit_1\n",
    "fig = px.scatter_3d(df, x, y, z, color=ratio, template=\"simple_white\")\n",
    "\n",
    "fig.show()\n",
    "print(\"Number of points: \", len(x))\n",
    "print(\"Average fidelity: \", np.average(ratio))\n",
    "print(\"Standard deviation: \", np.std(ratio))"
   ]
  },
  {
   "cell_type": "code",
   "execution_count": null,
   "metadata": {},
   "outputs": [],
   "source": []
  }
 ],
 "metadata": {
  "kernelspec": {
   "display_name": "Python 3",
   "language": "python",
   "name": "python3"
  },
  "language_info": {
   "codemirror_mode": {
    "name": "ipython",
    "version": 3
   },
   "file_extension": ".py",
   "mimetype": "text/x-python",
   "name": "python",
   "nbconvert_exporter": "python",
   "pygments_lexer": "ipython3",
   "version": "3.7.4"
  }
 },
 "nbformat": 4,
 "nbformat_minor": 4
}
