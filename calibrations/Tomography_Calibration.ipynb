{
 "cells": [
  {
   "cell_type": "code",
   "execution_count": 1,
   "metadata": {},
   "outputs": [],
   "source": [
    "import os\n",
    "from getpass import getpass\n",
    "from coreapi.auth import BasicAuthentication\n",
    "from quantuminspire.api import QuantumInspireAPI\n",
    "from quantuminspire.credentials import load_account, get_token_authentication, get_basic_authentication\n",
    "from quantuminspire.api import QuantumInspireAPI\n",
    "# from quantuminspire.projectq.backend_qx import QIBackend\n",
    "\n",
    "import numpy as np\n",
    "import pandas as pd\n",
    "from math import pi"
   ]
  },
  {
   "cell_type": "code",
   "execution_count": 2,
   "metadata": {},
   "outputs": [
    {
     "name": "stdout",
     "output_type": "stream",
     "text": [
      "Enter mail address\n",
      "juandadospuntostres@gmail.com\n",
      "Enter password\n",
      "········\n"
     ]
    }
   ],
   "source": [
    "print('Enter mail address')\n",
    "email = input()\n",
    "\n",
    "print('Enter password')\n",
    "password = getpass()\n",
    "\n",
    "server_url = r'https://api.quantum-inspire.com'\n",
    "authentication = BasicAuthentication(email, password)\n",
    "qi = QuantumInspireAPI(server_url, authentication)"
   ]
  },
  {
   "cell_type": "code",
   "execution_count": 4,
   "metadata": {},
   "outputs": [],
   "source": [
    "def write_data(data,name):\n",
    "    f = open(name,'a')\n",
    "    f.write(\"N.\\t +1\\t\\t -1\\n\")\n",
    "    for i in range(len(data)):\n",
    "        f.write(str(i+1)+\"\\t\"+str(data[i][0])+\"\\t\"+str(data[i][1])+\"\\n\")\n",
    "    f.close"
   ]
  },
  {
   "cell_type": "code",
   "execution_count": 5,
   "metadata": {},
   "outputs": [],
   "source": [
    "def tomography_circuit(angle):\n",
    "    qasm = '''\n",
    "    version 1.0\n",
    "\n",
    "    qubits 5\n",
    "    prep_z q[2]\n",
    "    Rx q[2], {0}\n",
    "    Measure_z q[2]\n",
    "    '''\n",
    "    return qasm.format(angle)"
   ]
  },
  {
   "cell_type": "code",
   "execution_count": 6,
   "metadata": {},
   "outputs": [],
   "source": [
    "def calibration_circuit1():\n",
    "    qasm = '''\n",
    "    version 1.0\n",
    "\n",
    "    qubits 5\n",
    "    prep_z q[2]\n",
    "    Measure_z q[2]\n",
    "    '''\n",
    "    return qasm.format()\n",
    "\n",
    "def calibration_circuit2():\n",
    "    qasm = '''\n",
    "    version 1.0\n",
    "\n",
    "    qubits 5\n",
    "    prep_z q[2]\n",
    "    Rx q[2], {0}\n",
    "    Measure_z q[2]\n",
    "    '''\n",
    "    return qasm.format(pi)"
   ]
  },
  {
   "cell_type": "code",
   "execution_count": 7,
   "metadata": {},
   "outputs": [],
   "source": [
    "def calibration():\n",
    "    \n",
    "    n = 10\n",
    "    N_shots = 8192\n",
    "    backend_type = qi.get_backend_type_by_name('Starmon-5')\n",
    "    index=0\n",
    "    calibration1 = []\n",
    "    calibration2 = []\n",
    "    \n",
    "    print(\"Running first calibration experiment\")\n",
    "    for i in range(n):\n",
    "        print(\"Round \"+str(i)+\" of \"+str(n)+\".\")\n",
    "        qasm=calibration_circuit1()\n",
    "        result = qi.execute_qasm(qasm, backend_type=backend_type, number_of_shots=N_shots)\n",
    "        hist=result.get('histogram', {})\n",
    "        calibration1.append([hist[\"0\"],hist[\"1\"]])\n",
    "        \n",
    "    write_data(calibration1,\"calibration_1_starmon_q0.dat\")\n",
    "    mz_1 = np.average(get_mz(calibration1))\n",
    "    print(\"Average m_z\"+str(mz_1))\n",
    "    \n",
    "    print(\"Running second calibration experiment\")    \n",
    "    for i in range(n):\n",
    "        print(\"Round \"+str(i)+\" of \"+str(n)+\".\")\n",
    "        qasm=calibration_circuit2()\n",
    "        result = qi.execute_qasm(qasm, backend_type=backend_type, number_of_shots=N_shots)\n",
    "        hist=result.get('histogram', {})\n",
    "        calibration2.append([hist[\"0\"],hist[\"1\"]])\n",
    "        \n",
    "    write_data(calibration2,\"calibration_2_starmon_q0.dat\")\n",
    "    mz_2 = np.average(get_mz(calibration2))\n",
    "    print(\"Average Rx(pi) m_z\"+str(mz_2))\n",
    "    \n",
    "    beta1 = 0.5*(mz_1+mz_2)\n",
    "    beta2 = 0.5*(mz_1-mz_2)\n",
    "    calibrations_params = [beta1,beta2]\n",
    "    \n",
    "    return calibrations_params\n"
   ]
  },
  {
   "cell_type": "code",
   "execution_count": 22,
   "metadata": {},
   "outputs": [
    {
     "name": "stdout",
     "output_type": "stream",
     "text": [
      "0\n",
      "1\n",
      "2\n",
      "3\n",
      "4\n",
      "5\n",
      "6\n",
      "7\n",
      "8\n",
      "9\n"
     ]
    }
   ],
   "source": [
    "target_points = np.linspace(0,2*pi,10)\n",
    "N_shots = 8192\n",
    "backend_type = qi.get_backend_type_by_name('Starmon-5')\n",
    "copied_data=[]\n",
    "index=0\n",
    "\n",
    "for points in target_points:\n",
    "    qasm=tomography_circuit(points)\n",
    "    result = qi.execute_qasm(qasm, backend_type=backend_type, number_of_shots=N_shots)\n",
    "    hist=result.get('histogram', {})\n",
    "    copied_data.append([hist[\"0\"],hist[\"1\"]])\n",
    "    print(index)\n",
    "    index += 1"
   ]
  },
  {
   "cell_type": "code",
   "execution_count": null,
   "metadata": {},
   "outputs": [],
   "source": [
    "def correct_data(data,params):\n",
    "    corrected = []\n",
    "    for i in range(len(data)):\n",
    "        corrected.append((data[i]-params[0])/params[1])\n",
    "    return corrected"
   ]
  },
  {
   "cell_type": "code",
   "execution_count": 24,
   "metadata": {},
   "outputs": [],
   "source": [
    "def get_mz(data):\n",
    "    mz = []\n",
    "    for i in range(len(data)):\n",
    "        mz.append(data[i][0]-data[i][1])\n",
    "    return mz"
   ]
  },
  {
   "cell_type": "code",
   "execution_count": null,
   "metadata": {},
   "outputs": [],
   "source": []
  },
  {
   "cell_type": "code",
   "execution_count": null,
   "metadata": {},
   "outputs": [],
   "source": []
  },
  {
   "cell_type": "code",
   "execution_count": 50,
   "metadata": {},
   "outputs": [],
   "source": []
  },
  {
   "cell_type": "code",
   "execution_count": null,
   "metadata": {},
   "outputs": [
    {
     "name": "stdout",
     "output_type": "stream",
     "text": [
      "Running first calibration experiment\n",
      "Round 0 of 10.\n"
     ]
    }
   ],
   "source": [
    "q2calibration=calibration()"
   ]
  },
  {
   "cell_type": "code",
   "execution_count": 52,
   "metadata": {},
   "outputs": [],
   "source": [
    "params_0_calibration = [0.12291259765624996, 0.82781982421875]"
   ]
  },
  {
   "cell_type": "code",
   "execution_count": 54,
   "metadata": {},
   "outputs": [],
   "source": [
    "from matplotlib import pyplot as plt"
   ]
  },
  {
   "cell_type": "code",
   "execution_count": 63,
   "metadata": {},
   "outputs": [
    {
     "data": {
      "text/plain": [
       "Text(0, 0.5, 'm_z')"
      ]
     },
     "execution_count": 63,
     "metadata": {},
     "output_type": "execute_result"
    },
    {
     "data": {
      "image/png": "[encoded data removed]",
      "text/plain": [
       "<Figure size 432x288 with 1 Axes>"
      ]
     },
     "metadata": {
      "needs_background": "light"
     },
     "output_type": "display_data"
    }
   ],
   "source": [
    "plt.plot(np.linspace(0,1,10),get_mz(copied_data),np.linspace(0,1,10),correct_data(get_mz(copied_data),params))\n",
    "plt.xlabel(\"Angle [Units of 2pi]\")\n",
    "plt.ylabel(\"m_z\")"
   ]
  },
  {
   "cell_type": "code",
   "execution_count": null,
   "metadata": {},
   "outputs": [],
   "source": []
  }
 ],
 "metadata": {
  "kernelspec": {
   "display_name": "Python 3",
   "language": "python",
   "name": "python3"
  },
  "language_info": {
   "codemirror_mode": {
    "name": "ipython",
    "version": 3
   },
   "file_extension": ".py",
   "mimetype": "text/x-python",
   "name": "python",
   "nbconvert_exporter": "python",
   "pygments_lexer": "ipython3",
   "version": "3.8.2"
  }
 },
 "nbformat": 4,
 "nbformat_minor": 4
}
