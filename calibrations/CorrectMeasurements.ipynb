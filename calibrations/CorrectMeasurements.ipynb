{
 "cells": [
  {
   "cell_type": "code",
   "execution_count": 1,
   "metadata": {},
   "outputs": [],
   "source": [
    "import numpy as np"
   ]
  },
  {
   "cell_type": "code",
   "execution_count": 23,
   "metadata": {},
   "outputs": [],
   "source": [
    "def write_data(data,name):\n",
    "    f = open(name,'a')\n",
    "    for i in range(len(data)):\n",
    "        for j in range(len(data[i])):\n",
    "            f.write(str(data[i][j])+\"\\t\\t\")\n",
    "        f.write(\"\\n\")\n",
    "    f.close"
   ]
  },
  {
   "cell_type": "code",
   "execution_count": 21,
   "metadata": {},
   "outputs": [],
   "source": [
    "def correct_data(data_file):\n",
    "    \"\"\"This function corrects the data in the format provided\n",
    "    by previous experiments on Starmon5. We use the correction parameters\n",
    "    beta0 = 0.12291259765624996 \n",
    "    beta1 = 0.82781982421875\n",
    "    \"\"\"\n",
    "    beta0 = 0.12291259765624996 \n",
    "    beta1 = 0.82781982421875\n",
    "    data = np.loadtxt(data_file)\n",
    "    corrected_data = []\n",
    "    for i in range(len(data)):\n",
    "        corrected_data.append(data[i])\n",
    "        for j in range(2):\n",
    "            corrected_1 = (beta1-beta0+data[i][2+2*j]-data[i][2+2*j+1])/(2*beta1)\n",
    "            corrected_2 = (beta1+beta0-data[i][2+2*j]+data[i][2+2*j+1])/(2*beta1)\n",
    "            corrected_data[i][2+2*j] = corrected_1\n",
    "            corrected_data[i][2+2*j+1] = corrected_2\n",
    "    return corrected_data\n",
    "    "
   ]
  },
  {
   "cell_type": "code",
   "execution_count": 24,
   "metadata": {},
   "outputs": [],
   "source": [
    "write_data(correct_data('results.txt'),'corrected_results_starmon5.txt')"
   ]
  },
  {
   "cell_type": "code",
   "execution_count": 4,
   "metadata": {},
   "outputs": [],
   "source": []
  },
  {
   "cell_type": "code",
   "execution_count": 6,
   "metadata": {},
   "outputs": [],
   "source": []
  },
  {
   "cell_type": "code",
   "execution_count": null,
   "metadata": {},
   "outputs": [],
   "source": []
  },
  {
   "cell_type": "code",
   "execution_count": null,
   "metadata": {},
   "outputs": [],
   "source": []
  }
 ],
 "metadata": {
  "kernelspec": {
   "display_name": "Python 3",
   "language": "python",
   "name": "python3"
  },
  "language_info": {
   "codemirror_mode": {
    "name": "ipython",
    "version": 3
   },
   "file_extension": ".py",
   "mimetype": "text/x-python",
   "name": "python",
   "nbconvert_exporter": "python",
   "pygments_lexer": "ipython3",
   "version": "3.8.2"
  }
 },
 "nbformat": 4,
 "nbformat_minor": 4
}
