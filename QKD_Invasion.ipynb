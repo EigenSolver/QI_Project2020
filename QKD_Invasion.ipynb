{
 "cells": [
  {
   "cell_type": "markdown",
   "metadata": {},
   "source": [
    "## Simulation of a QKD process invaded by Quantum Cloning Machine"
   ]
  },
  {
   "cell_type": "code",
   "execution_count": 57,
   "metadata": {},
   "outputs": [],
   "source": [
    "import numpy as np\n",
    "import pandas as pd\n",
    "\n",
    "from getpass import getpass\n",
    "from coreapi.auth import BasicAuthentication\n",
    "from quantuminspire.api import QuantumInspireAPI\n",
    "from quantuminspire.credentials import load_account, get_token_authentication, get_basic_authentication\n",
    "from quantuminspire.api import QuantumInspireAPI"
   ]
  },
  {
   "cell_type": "code",
   "execution_count": 58,
   "metadata": {},
   "outputs": [
    {
     "name": "stdout",
     "output_type": "stream",
     "text": [
      "Enter mail address\n",
      "y.zhang-108@student.tudelft.nl\n",
      "Enter password\n",
      "········\n"
     ]
    }
   ],
   "source": [
    "print('Enter mail address')\n",
    "email = input()\n",
    "\n",
    "print('Enter password')\n",
    "password = getpass()\n",
    "\n",
    "server_url = r'https://api.quantum-inspire.com'\n",
    "authentication = BasicAuthentication(email, password)\n",
    "qi = QuantumInspireAPI(server_url, authentication)"
   ]
  },
  {
   "cell_type": "code",
   "execution_count": 60,
   "metadata": {},
   "outputs": [
    {
     "name": "stdout",
     "output_type": "stream",
     "text": [
      "Backend type: Starmon-5, number of qubits: 5\n",
      "Backend type: QX single-node simulator, number of qubits: 26\n",
      "Backend type: QX single-node simulator SurfSara, number of qubits: 31\n",
      "Backend type: Spin-2, number of qubits: 2\n"
     ]
    }
   ],
   "source": [
    "qi.list_backend_types()"
   ]
  },
  {
   "cell_type": "markdown",
   "metadata": {},
   "source": [
    "### BB84 protocol: Charles H. Bennett and Gilles Brassard (1984)\n",
    "\n",
    "Bob generate the key and measurement bases"
   ]
  },
  {
   "cell_type": "code",
   "execution_count": 202,
   "metadata": {},
   "outputs": [],
   "source": [
    "n_key=64\n",
    "bitstring = np.random.randint(2,size=n_key)\n",
    "bases_A=np.random.randint(2,size=n_key)\n",
    "\n",
    "bases_B=np.random.randint(2,size=n_key)\n",
    "bases_E=bases_B.copy() # assume quantum memory"
   ]
  },
  {
   "cell_type": "markdown",
   "metadata": {},
   "source": [
    "The expection key length is 1/2 of the random bitstring."
   ]
  },
  {
   "cell_type": "code",
   "execution_count": 203,
   "metadata": {},
   "outputs": [
    {
     "data": {
      "text/plain": [
       "33"
      ]
     },
     "execution_count": 203,
     "metadata": {},
     "output_type": "execute_result"
    }
   ],
   "source": [
    "sum(bases_A==bases_B)"
   ]
  },
  {
   "cell_type": "markdown",
   "metadata": {},
   "source": [
    "If base is 0, measure in Z, otherwise measure in X.\n",
    "\n",
    "(key,base): state\n",
    "\n",
    "00: $|0\\rangle$ \n",
    "10: $|1\\rangle$ \n",
    "01: $|+\\rangle$ \n",
    "11: $|-\\rangle$ \n",
    "\n",
    "\n",
    "Alice prepare the qubit and send it to Bob.\n",
    "\n",
    "Assume Eve have a Cloning Machine and a Quantum Memory\n",
    "\n",
    "So she can clone the states and measure in the same base after Bob publish her measurement bases."
   ]
  },
  {
   "cell_type": "code",
   "execution_count": 227,
   "metadata": {},
   "outputs": [],
   "source": [
    "def QKD_QACM(key,A_base,B_base,E_base):\n",
    "    \n",
    "    # here the qubits used in circuit is 1,3 instead of 0,4, for lower error rate\n",
    "    \n",
    "    qasm ='''\n",
    "    version 2.0\n",
    "\n",
    "    qubits 5\n",
    "\n",
    "    # initialize the state\n",
    "    {0}\n",
    "    \n",
    "    #preparation\n",
    "    Ry q[0], 1.107149\n",
    "    #rewrite CNOT q[0],q[4] and CNOT q[4],q[0] usign nearest neighbors\n",
    "    SWAP q[0],q[2] \n",
    "    CNOT q[2],q[4]\n",
    "\n",
    "    Ry q[4], 0.729728\n",
    "    CNOT q[4],q[2]\n",
    "    SWAP q[0],q[2]\n",
    "\n",
    "    Ry q[0], 0.463648\n",
    "\n",
    "    #copying\n",
    "    CNOT q[2], q[0]\n",
    "    CNOT q[2], q[4]\n",
    "    CNOT q[0], q[2]\n",
    "    CNOT q[4], q[2]\n",
    "\n",
    "    #Rotate back and measure\n",
    "    {1}\n",
    "    {2}\n",
    "    '''\n",
    "    if A_base:\n",
    "        prep=\"prep_x q[2]\\n\"\n",
    "        if key:\n",
    "            prep+=\"    Z q[2]\\n\"\n",
    "    else:\n",
    "        prep=\"prep_z q[2]\\n\"\n",
    "        if key:\n",
    "            prep+=\"    X q[2]\\n\"\n",
    "            \n",
    "    meas=\"measure_x q[2]\\n\" if B_base else \"measure_z q[2]\"\n",
    "    invasion=\"measure_x q[0]\\n\" if E_base else \"measure_z q[0]\"\n",
    "    \n",
    "    return qasm.format(prep,meas,invasion)"
   ]
  },
  {
   "cell_type": "markdown",
   "metadata": {},
   "source": [
    "Check the predetermined subset of their remained key to detect a eavesdropper.\n",
    "\n",
    "If UQCM used, we can expect the error rate of key is 1/6. "
   ]
  },
  {
   "cell_type": "code",
   "execution_count": 228,
   "metadata": {},
   "outputs": [
    {
     "name": "stdout",
     "output_type": "stream",
     "text": [
      "1/64\n",
      "Execution time:  0.622592\n",
      "key:1,bases_Alice:0,bases_Bob:1,bases_Eve:1\n",
      "odict_values([0.20705689277899345, 0.32029540481400437, 0.17970459518599563, 0.2929431072210066])\n",
      "2/64\n",
      "Execution time:  0.622592\n",
      "key:1,bases_Alice:1,bases_Bob:0,bases_Eve:0\n",
      "odict_values([0.34606797320764077, 0.23220044653932026, 0.2061523195236914, 0.21557926072934755])\n",
      "3/64\n",
      "Execution time:  0.622592\n",
      "key:0,bases_Alice:0,bases_Bob:0,bases_Eve:0\n",
      "odict_values([0.5799815781393921, 0.15965612526865214, 0.18913110224132637, 0.07123119435062941])\n",
      "4/64\n",
      "Execution time:  0.622592\n",
      "key:1,bases_Alice:1,bases_Bob:1,bases_Eve:1\n",
      "odict_values([0.17568370986920334, 0.18311533888228299, 0.3727705112960761, 0.2684304399524376])\n",
      "5/64\n",
      "Execution time:  0.622592\n",
      "key:1,bases_Alice:1,bases_Bob:1,bases_Eve:1\n",
      "odict_values([0.18783422459893048, 0.17479946524064172, 0.3689839572192513, 0.26838235294117646])\n",
      "6/64\n",
      "Execution time:  0.622592\n",
      "key:1,bases_Alice:1,bases_Bob:1,bases_Eve:1\n",
      "odict_values([0.17623188405797102, 0.1820289855072464, 0.3715942028985507, 0.27014492753623187])\n",
      "7/64\n",
      "Execution time:  0.622592\n",
      "key:0,bases_Alice:0,bases_Bob:0,bases_Eve:0\n",
      "odict_values([0.5838792366847052, 0.15921389917402448, 0.1831387069211051, 0.07376815722016519])\n",
      "8/64\n",
      "Execution time:  0.622592\n",
      "key:0,bases_Alice:0,bases_Bob:0,bases_Eve:0\n",
      "odict_values([0.5805219605346913, 0.15436028007638447, 0.19096117122851686, 0.07415658816040738])\n",
      "9/64\n",
      "Execution time:  0.622592\n",
      "key:1,bases_Alice:1,bases_Bob:1,bases_Eve:1\n",
      "odict_values([0.1779607346421786, 0.17162761241291957, 0.38568714376187463, 0.26472450918302726])\n",
      "10/64\n",
      "Execution time:  0.622592\n",
      "key:0,bases_Alice:1,bases_Bob:0,bases_Eve:0\n",
      "odict_values([0.3826761473820297, 0.17485455720749837, 0.19877181641887523, 0.24369747899159663])\n",
      "11/64\n",
      "Execution time:  0.622592\n",
      "key:0,bases_Alice:1,bases_Bob:0,bases_Eve:0\n",
      "odict_values([0.3903946742748455, 0.1783166904422254, 0.20827389443651925, 0.2230147408464099])\n",
      "12/64\n",
      "Execution time:  0.622592\n",
      "key:1,bases_Alice:1,bases_Bob:0,bases_Eve:0\n",
      "odict_values([0.3591095489162273, 0.22437024018746338, 0.20767428236672525, 0.20884592852958406])\n",
      "13/64\n",
      "Execution time:  0.622592\n",
      "key:0,bases_Alice:0,bases_Bob:1,bases_Eve:1\n",
      "odict_values([0.3998997744926084, 0.13730894512653471, 0.3868704585316963, 0.07592082184916062])\n",
      "14/64\n",
      "Execution time:  0.622592\n",
      "key:1,bases_Alice:1,bases_Bob:1,bases_Eve:1\n",
      "odict_values([0.18616144975288304, 0.18890719384953322, 0.36436024162548053, 0.26057111477210326])\n",
      "15/64\n",
      "Execution time:  0.622592\n",
      "key:1,bases_Alice:1,bases_Bob:1,bases_Eve:1\n",
      "odict_values([0.18425196850393702, 0.17070866141732283, 0.37291338582677164, 0.2721259842519685])\n",
      "16/64\n",
      "Execution time:  0.622592\n",
      "key:0,bases_Alice:1,bases_Bob:1,bases_Eve:1\n",
      "odict_values([0.4189446916719644, 0.32453909726637, 0.16369993642720915, 0.09281627463445645])\n",
      "17/64\n",
      "Execution time:  0.622592\n",
      "key:0,bases_Alice:0,bases_Bob:1,bases_Eve:1\n",
      "odict_values([0.39066706551002095, 0.13550702961411906, 0.3987436434340413, 0.07508226144181873])\n",
      "18/64\n",
      "Execution time:  0.622592\n",
      "key:0,bases_Alice:1,bases_Bob:0,bases_Eve:0\n",
      "odict_values([0.3896229455365775, 0.19078311311633903, 0.19078311311633903, 0.22881082823074445])\n",
      "19/64\n",
      "Execution time:  0.622592\n",
      "key:1,bases_Alice:1,bases_Bob:1,bases_Eve:1\n",
      "odict_values([0.1796812749003984, 0.18964143426294822, 0.3741035856573705, 0.25657370517928285])\n",
      "20/64\n",
      "Execution time:  0.622592\n",
      "key:1,bases_Alice:1,bases_Bob:0,bases_Eve:0\n",
      "odict_values([0.342790516906335, 0.24446171783909834, 0.2102603964244073, 0.20248736883015936])\n",
      "21/64\n",
      "Execution time:  0.622592\n",
      "key:0,bases_Alice:1,bases_Bob:1,bases_Eve:1\n",
      "odict_values([0.4098248024733768, 0.3232566128478186, 0.17141875644108553, 0.09549982823771899])\n",
      "22/64\n",
      "Execution time:  0.622592\n",
      "key:1,bases_Alice:1,bases_Bob:1,bases_Eve:1\n",
      "odict_values([0.19008849557522123, 0.17982300884955751, 0.39079646017699116, 0.2392920353982301])\n",
      "23/64\n",
      "Execution time:  0.622592\n",
      "key:0,bases_Alice:1,bases_Bob:0,bases_Eve:0\n",
      "odict_values([0.3987884906612822, 0.17163048965169106, 0.20141342756183744, 0.2281675921251893])\n",
      "24/64\n",
      "Execution time:  0.622592\n",
      "key:0,bases_Alice:1,bases_Bob:0,bases_Eve:0\n",
      "odict_values([0.375599128540305, 0.17647058823529413, 0.20784313725490197, 0.2400871459694989])\n",
      "25/64\n",
      "Execution time:  0.622592\n",
      "key:0,bases_Alice:1,bases_Bob:1,bases_Eve:1\n",
      "odict_values([0.4237097980553478, 0.31301421091997006, 0.16978309648466716, 0.09349289454001496])\n",
      "26/64\n",
      "Execution time:  0.622592\n",
      "key:1,bases_Alice:0,bases_Bob:0,bases_Eve:0\n",
      "odict_values([0.18320830929024812, 0.2507212925562608, 0.22302365839584534, 0.3430467397576457])\n",
      "27/64\n",
      "Execution time:  0.622592\n",
      "key:1,bases_Alice:0,bases_Bob:1,bases_Eve:1\n",
      "odict_values([0.20488098824947273, 0.3377523350406749, 0.17987345586019884, 0.2774932208496535])\n",
      "28/64\n",
      "Execution time:  0.622592\n",
      "key:0,bases_Alice:0,bases_Bob:0,bases_Eve:0\n",
      "odict_values([0.5822314049586776, 0.16239669421487604, 0.19173553719008266, 0.06363636363636363])\n",
      "29/64\n",
      "Execution time:  0.622592\n",
      "key:1,bases_Alice:1,bases_Bob:1,bases_Eve:1\n",
      "odict_values([0.18512780790085206, 0.1723470178156468, 0.3826491092176607, 0.25987606506584043])\n",
      "30/64\n",
      "Execution time:  0.622592\n",
      "key:1,bases_Alice:0,bases_Bob:1,bases_Eve:1\n",
      "odict_values([0.2139261744966443, 0.338506711409396, 0.18624161073825504, 0.2613255033557047])\n",
      "31/64\n",
      "Execution time:  0.622592\n",
      "key:1,bases_Alice:0,bases_Bob:1,bases_Eve:1\n",
      "odict_values([0.2107255520504732, 0.3126182965299685, 0.19022082018927444, 0.2864353312302839])\n",
      "32/64\n",
      "Execution time:  0.622592\n",
      "key:1,bases_Alice:0,bases_Bob:1,bases_Eve:1\n",
      "odict_values([0.21032005225342912, 0.3285434356629654, 0.18745917700849118, 0.2736773350751143])\n",
      "33/64\n",
      "Execution time:  0.622592\n",
      "key:0,bases_Alice:1,bases_Bob:0,bases_Eve:0\n",
      "odict_values([0.3834532374100719, 0.1723021582733813, 0.2133093525179856, 0.23093525179856114])\n",
      "34/64\n",
      "Execution time:  0.622592\n",
      "key:1,bases_Alice:0,bases_Bob:1,bases_Eve:1\n",
      "odict_values([0.2213520197856554, 0.3219291014014839, 0.18301731244847486, 0.2737015663643858])\n",
      "35/64\n",
      "Execution time:  0.622592\n",
      "key:1,bases_Alice:0,bases_Bob:0,bases_Eve:0\n",
      "odict_values([0.16915077989601388, 0.2589254766031196, 0.2322357019064125, 0.3396880415944541])\n",
      "36/64\n",
      "Execution time:  0.622592\n",
      "key:0,bases_Alice:0,bases_Bob:1,bases_Eve:1\n",
      "odict_values([0.39467408585055647, 0.1478537360890302, 0.3624801271860095, 0.09499205087440382])\n",
      "37/64\n",
      "Execution time:  0.622592\n",
      "key:0,bases_Alice:1,bases_Bob:0,bases_Eve:0\n",
      "odict_values([0.38172625496569157, 0.19646081617912603, 0.18490429758035393, 0.23690863127482845])\n",
      "38/64\n",
      "Execution time:  0.622592\n",
      "key:0,bases_Alice:0,bases_Bob:1,bases_Eve:1\n",
      "odict_values([0.38449367088607594, 0.15569620253164557, 0.385126582278481, 0.07468354430379746])\n",
      "39/64\n",
      "Execution time:  0.622592\n",
      "key:0,bases_Alice:0,bases_Bob:0,bases_Eve:0\n",
      "odict_values([0.5894876912840985, 0.16001330671989356, 0.17797737857618098, 0.07252162341982701])\n",
      "40/64\n",
      "Execution time:  0.622592\n",
      "key:1,bases_Alice:1,bases_Bob:0,bases_Eve:0\n",
      "odict_values([0.3472775564409031, 0.21713147410358566, 0.22078353253652058, 0.2148074369189907])\n",
      "41/64\n",
      "Execution time:  0.622592\n",
      "key:1,bases_Alice:0,bases_Bob:0,bases_Eve:0\n",
      "odict_values([0.16735905044510385, 0.26350148367952525, 0.22759643916913946, 0.34154302670623143])\n",
      "42/64\n",
      "Execution time:  0.622592\n",
      "key:1,bases_Alice:0,bases_Bob:1,bases_Eve:1\n",
      "odict_values([0.21262886597938144, 0.3240979381443299, 0.19845360824742267, 0.264819587628866])\n",
      "43/64\n",
      "Execution time:  0.622592\n",
      "key:0,bases_Alice:1,bases_Bob:0,bases_Eve:0\n",
      "odict_values([0.38827098078867545, 0.19076508257499158, 0.19076508257499158, 0.2301988540613414])\n",
      "44/64\n",
      "Execution time:  0.622592\n",
      "key:0,bases_Alice:0,bases_Bob:0,bases_Eve:0\n",
      "odict_values([0.5955318439479826, 0.15371790596865623, 0.1823941313771257, 0.06835611870623541])\n",
      "45/64\n",
      "Execution time:  0.622592\n",
      "key:0,bases_Alice:1,bases_Bob:1,bases_Eve:1\n",
      "odict_values([0.39652956298200515, 0.3181233933161954, 0.18380462724935734, 0.10154241645244216])\n",
      "46/64\n",
      "Execution time:  0.622592\n",
      "key:1,bases_Alice:0,bases_Bob:1,bases_Eve:1\n",
      "odict_values([0.19699812382739212, 0.34146341463414637, 0.19293308317698563, 0.2686053783614759])\n",
      "47/64\n",
      "Execution time:  0.622592\n",
      "key:0,bases_Alice:1,bases_Bob:1,bases_Eve:1\n",
      "odict_values([0.4182565306721456, 0.31787496331083065, 0.1684766656882888, 0.09539184032873496])\n",
      "48/64\n",
      "Execution time:  0.622592\n",
      "key:0,bases_Alice:1,bases_Bob:1,bases_Eve:1\n",
      "odict_values([0.4192382541006394, 0.31693077564637195, 0.1634695579649708, 0.10036141228801779])\n"
     ]
    },
    {
     "name": "stdout",
     "output_type": "stream",
     "text": [
      "49/64\n",
      "Execution time:  0.622592\n",
      "key:0,bases_Alice:1,bases_Bob:1,bases_Eve:1\n",
      "odict_values([0.401727115716753, 0.33264248704663213, 0.16649395509499137, 0.09913644214162348])\n",
      "50/64\n",
      "Execution time:  0.622592\n",
      "key:0,bases_Alice:1,bases_Bob:1,bases_Eve:1\n",
      "odict_values([0.4042067916877851, 0.3261530663963507, 0.15813482007095794, 0.11150532184490623])\n",
      "51/64\n",
      "Execution time:  0.622592\n",
      "key:1,bases_Alice:0,bases_Bob:1,bases_Eve:1\n",
      "odict_values([0.20726338958180485, 0.3033749082905356, 0.185986793837124, 0.3033749082905356])\n",
      "52/64\n",
      "Execution time:  0.622592\n",
      "key:1,bases_Alice:1,bases_Bob:1,bases_Eve:1\n",
      "odict_values([0.1726643598615917, 0.17024221453287197, 0.3698961937716263, 0.28719723183391005])\n",
      "53/64\n",
      "Execution time:  0.622592\n",
      "key:0,bases_Alice:1,bases_Bob:1,bases_Eve:1\n",
      "odict_values([0.415428390768258, 0.325640214985773, 0.15997470755611762, 0.0989566866898514])\n",
      "54/64\n",
      "Execution time:  0.622592\n",
      "key:0,bases_Alice:1,bases_Bob:0,bases_Eve:0\n",
      "odict_values([0.3745068285280728, 0.1872534142640364, 0.20637329286798178, 0.23186646433990896])\n",
      "55/64\n",
      "Execution time:  0.622592\n",
      "key:0,bases_Alice:1,bases_Bob:1,bases_Eve:1\n",
      "odict_values([0.4156586021505376, 0.3161962365591398, 0.16565860215053763, 0.10248655913978495])\n",
      "56/64\n",
      "Execution time:  0.622592\n",
      "key:0,bases_Alice:0,bases_Bob:0,bases_Eve:0\n",
      "odict_values([0.5787965616045845, 0.16496111338518216, 0.17765042979942694, 0.07859189521080638])\n",
      "57/64\n",
      "Execution time:  0.622592\n",
      "key:0,bases_Alice:1,bases_Bob:0,bases_Eve:0\n",
      "odict_values([0.3855160450997398, 0.18907198612315698, 0.20034692107545535, 0.22506504770164787])\n",
      "58/64\n",
      "Execution time:  0.622592\n",
      "key:0,bases_Alice:0,bases_Bob:0,bases_Eve:0\n",
      "odict_values([0.5726664040961008, 0.16541945647892872, 0.17132729421031903, 0.09058684521465143])\n",
      "59/64\n",
      "Execution time:  0.622592\n",
      "key:0,bases_Alice:0,bases_Bob:1,bases_Eve:1\n",
      "odict_values([0.3734723220704529, 0.15025161754133717, 0.3968368080517613, 0.0794392523364486])\n",
      "60/64\n",
      "Execution time:  0.622592\n",
      "key:1,bases_Alice:1,bases_Bob:1,bases_Eve:1\n",
      "odict_values([0.17349674454232095, 0.18383761011106856, 0.37418613558023744, 0.268479509766373])\n",
      "61/64\n",
      "Execution time:  0.622592\n",
      "key:1,bases_Alice:1,bases_Bob:0,bases_Eve:0\n",
      "odict_values([0.35506094329623744, 0.24377318494965552, 0.1976682564917859, 0.20349761526232116])\n",
      "62/64\n",
      "Execution time:  0.622592\n",
      "key:1,bases_Alice:1,bases_Bob:0,bases_Eve:0\n",
      "odict_values([0.3418447107868682, 0.23501823866597185, 0.18968212610734758, 0.2334549244398124])\n",
      "63/64\n",
      "Execution time:  0.622592\n",
      "key:1,bases_Alice:1,bases_Bob:0,bases_Eve:0\n",
      "odict_values([0.3308504034761018, 0.23711980136561142, 0.2079453755431409, 0.22408441961514589])\n",
      "64/64\n",
      "Execution time:  0.622592\n",
      "key:1,bases_Alice:0,bases_Bob:0,bases_Eve:0\n",
      "odict_values([0.16768916155419222, 0.24267211997273347, 0.23858214042263123, 0.3510565780504431])\n"
     ]
    }
   ],
   "source": [
    "N_shots=4096\n",
    "backend_type = qi.get_backend_type_by_name('Starmon-5')\n",
    "# backend_type = qi.get_backend_type_by_name('QX single-node simulator')\n",
    "\n",
    "data=[]\n",
    "index=0\n",
    "\n",
    "for param in zip(bitstring,bases_A,bases_B,bases_E):\n",
    "    qasm=QKD_QACM(*param)\n",
    "    result = qi.execute_qasm(qasm, backend_type=backend_type, number_of_shots=N_shots)\n",
    "    hist=result.get('histogram', {}).values()\n",
    "    data.append(hist)\n",
    "    index+=1\n",
    "    \n",
    "    print(str(index)+\"/\"+str(n_key))\n",
    "    print(\"Execution time: \", result.get('execution_time_in_seconds',{}))\n",
    "    print(\"key:{0},bases_Alice:{1},bases_Bob:{2},bases_Eve:{3}\".format(*param))\n",
    "    print(hist)"
   ]
  },
  {
   "cell_type": "code",
   "execution_count": 229,
   "metadata": {},
   "outputs": [
    {
     "data": {
      "text/html": [
       "<div>\n",
       "<style scoped>\n",
       "    .dataframe tbody tr th:only-of-type {\n",
       "        vertical-align: middle;\n",
       "    }\n",
       "\n",
       "    .dataframe tbody tr th {\n",
       "        vertical-align: top;\n",
       "    }\n",
       "\n",
       "    .dataframe thead th {\n",
       "        text-align: right;\n",
       "    }\n",
       "</style>\n",
       "<table border=\"1\" class=\"dataframe\">\n",
       "  <thead>\n",
       "    <tr style=\"text-align: right;\">\n",
       "      <th></th>\n",
       "      <th>00</th>\n",
       "      <th>01</th>\n",
       "      <th>10</th>\n",
       "      <th>11</th>\n",
       "    </tr>\n",
       "  </thead>\n",
       "  <tbody>\n",
       "    <tr>\n",
       "      <th>0</th>\n",
       "      <td>0.207057</td>\n",
       "      <td>0.320295</td>\n",
       "      <td>0.179705</td>\n",
       "      <td>0.292943</td>\n",
       "    </tr>\n",
       "    <tr>\n",
       "      <th>1</th>\n",
       "      <td>0.346068</td>\n",
       "      <td>0.232200</td>\n",
       "      <td>0.206152</td>\n",
       "      <td>0.215579</td>\n",
       "    </tr>\n",
       "    <tr>\n",
       "      <th>2</th>\n",
       "      <td>0.579982</td>\n",
       "      <td>0.159656</td>\n",
       "      <td>0.189131</td>\n",
       "      <td>0.071231</td>\n",
       "    </tr>\n",
       "    <tr>\n",
       "      <th>3</th>\n",
       "      <td>0.175684</td>\n",
       "      <td>0.183115</td>\n",
       "      <td>0.372771</td>\n",
       "      <td>0.268430</td>\n",
       "    </tr>\n",
       "    <tr>\n",
       "      <th>4</th>\n",
       "      <td>0.187834</td>\n",
       "      <td>0.174799</td>\n",
       "      <td>0.368984</td>\n",
       "      <td>0.268382</td>\n",
       "    </tr>\n",
       "  </tbody>\n",
       "</table>\n",
       "</div>"
      ],
      "text/plain": [
       "         00        01        10        11\n",
       "0  0.207057  0.320295  0.179705  0.292943\n",
       "1  0.346068  0.232200  0.206152  0.215579\n",
       "2  0.579982  0.159656  0.189131  0.071231\n",
       "3  0.175684  0.183115  0.372771  0.268430\n",
       "4  0.187834  0.174799  0.368984  0.268382"
      ]
     },
     "execution_count": 229,
     "metadata": {},
     "output_type": "execute_result"
    }
   ],
   "source": [
    "#[bin(int(i))[2:].zfill(5) for i in hist.keys()]\n",
    "data_sheet=DataFramet=pd.DataFrame(data=np.array(list(map(list,data))), columns=[\"key\",\"bases\",\"00\",\"01\",\"10\",\"11\"])\n",
    "data_sheet.head()"
   ]
  },
  {
   "cell_type": "code",
   "execution_count": 231,
   "metadata": {},
   "outputs": [
    {
     "data": {
      "text/plain": [
       "array([[0.20705689, 0.3202954 , 0.1797046 , 0.29294311],\n",
       "       [0.34606797, 0.23220045, 0.20615232, 0.21557926],\n",
       "       [0.57998158, 0.15965613, 0.1891311 , 0.07123119],\n",
       "       [0.17568371, 0.18311534, 0.37277051, 0.26843044],\n",
       "       [0.18783422, 0.17479947, 0.36898396, 0.26838235],\n",
       "       [0.17623188, 0.18202899, 0.3715942 , 0.27014493],\n",
       "       [0.58387924, 0.1592139 , 0.18313871, 0.07376816],\n",
       "       [0.58052196, 0.15436028, 0.19096117, 0.07415659],\n",
       "       [0.17796073, 0.17162761, 0.38568714, 0.26472451],\n",
       "       [0.38267615, 0.17485456, 0.19877182, 0.24369748],\n",
       "       [0.39039467, 0.17831669, 0.20827389, 0.22301474],\n",
       "       [0.35910955, 0.22437024, 0.20767428, 0.20884593],\n",
       "       [0.39989977, 0.13730895, 0.38687046, 0.07592082],\n",
       "       [0.18616145, 0.18890719, 0.36436024, 0.26057111],\n",
       "       [0.18425197, 0.17070866, 0.37291339, 0.27212598],\n",
       "       [0.41894469, 0.3245391 , 0.16369994, 0.09281627],\n",
       "       [0.39066707, 0.13550703, 0.39874364, 0.07508226],\n",
       "       [0.38962295, 0.19078311, 0.19078311, 0.22881083],\n",
       "       [0.17968127, 0.18964143, 0.37410359, 0.25657371],\n",
       "       [0.34279052, 0.24446172, 0.2102604 , 0.20248737],\n",
       "       [0.4098248 , 0.32325661, 0.17141876, 0.09549983],\n",
       "       [0.1900885 , 0.17982301, 0.39079646, 0.23929204],\n",
       "       [0.39878849, 0.17163049, 0.20141343, 0.22816759],\n",
       "       [0.37559913, 0.17647059, 0.20784314, 0.24008715],\n",
       "       [0.4237098 , 0.31301421, 0.1697831 , 0.09349289],\n",
       "       [0.18320831, 0.25072129, 0.22302366, 0.34304674],\n",
       "       [0.20488099, 0.33775234, 0.17987346, 0.27749322],\n",
       "       [0.5822314 , 0.16239669, 0.19173554, 0.06363636],\n",
       "       [0.18512781, 0.17234702, 0.38264911, 0.25987607],\n",
       "       [0.21392617, 0.33850671, 0.18624161, 0.2613255 ],\n",
       "       [0.21072555, 0.3126183 , 0.19022082, 0.28643533],\n",
       "       [0.21032005, 0.32854344, 0.18745918, 0.27367734],\n",
       "       [0.38345324, 0.17230216, 0.21330935, 0.23093525],\n",
       "       [0.22135202, 0.3219291 , 0.18301731, 0.27370157],\n",
       "       [0.16915078, 0.25892548, 0.2322357 , 0.33968804],\n",
       "       [0.39467409, 0.14785374, 0.36248013, 0.09499205],\n",
       "       [0.38172625, 0.19646082, 0.1849043 , 0.23690863],\n",
       "       [0.38449367, 0.1556962 , 0.38512658, 0.07468354],\n",
       "       [0.58948769, 0.16001331, 0.17797738, 0.07252162],\n",
       "       [0.34727756, 0.21713147, 0.22078353, 0.21480744],\n",
       "       [0.16735905, 0.26350148, 0.22759644, 0.34154303],\n",
       "       [0.21262887, 0.32409794, 0.19845361, 0.26481959],\n",
       "       [0.38827098, 0.19076508, 0.19076508, 0.23019885],\n",
       "       [0.59553184, 0.15371791, 0.18239413, 0.06835612],\n",
       "       [0.39652956, 0.31812339, 0.18380463, 0.10154242],\n",
       "       [0.19699812, 0.34146341, 0.19293308, 0.26860538],\n",
       "       [0.41825653, 0.31787496, 0.16847667, 0.09539184],\n",
       "       [0.41923825, 0.31693078, 0.16346956, 0.10036141],\n",
       "       [0.40172712, 0.33264249, 0.16649396, 0.09913644],\n",
       "       [0.40420679, 0.32615307, 0.15813482, 0.11150532],\n",
       "       [0.20726339, 0.30337491, 0.18598679, 0.30337491],\n",
       "       [0.17266436, 0.17024221, 0.36989619, 0.28719723],\n",
       "       [0.41542839, 0.32564021, 0.15997471, 0.09895669],\n",
       "       [0.37450683, 0.18725341, 0.20637329, 0.23186646],\n",
       "       [0.4156586 , 0.31619624, 0.1656586 , 0.10248656],\n",
       "       [0.57879656, 0.16496111, 0.17765043, 0.0785919 ],\n",
       "       [0.38551605, 0.18907199, 0.20034692, 0.22506505],\n",
       "       [0.5726664 , 0.16541946, 0.17132729, 0.09058685],\n",
       "       [0.37347232, 0.15025162, 0.39683681, 0.07943925],\n",
       "       [0.17349674, 0.18383761, 0.37418614, 0.26847951],\n",
       "       [0.35506094, 0.24377318, 0.19766826, 0.20349762],\n",
       "       [0.34184471, 0.23501824, 0.18968213, 0.23345492],\n",
       "       [0.3308504 , 0.2371198 , 0.20794538, 0.22408442],\n",
       "       [0.16768916, 0.24267212, 0.23858214, 0.35105658]])"
      ]
     },
     "execution_count": 231,
     "metadata": {},
     "output_type": "execute_result"
    }
   ],
   "source": [
    "np.array(list(map(list,data)))"
   ]
  },
  {
   "cell_type": "code",
   "execution_count": 232,
   "metadata": {},
   "outputs": [],
   "source": [
    "data_sheet.to_excel(\"QKD_Simulation.xlsx\")"
   ]
  },
  {
   "cell_type": "markdown",
   "metadata": {},
   "source": [
    "Find the key by take same measurement bases"
   ]
  },
  {
   "cell_type": "code",
   "execution_count": 235,
   "metadata": {},
   "outputs": [],
   "source": [
    "secure_key=bitstring[bases_A==bases_B]"
   ]
  },
  {
   "cell_type": "code",
   "execution_count": 236,
   "metadata": {},
   "outputs": [],
   "source": [
    "prob=data_sheet[bases_A==bases_B]"
   ]
  },
  {
   "cell_type": "markdown",
   "metadata": {},
   "source": [
    "Assume Alice and Bob preserve half of the key for secure check.\n",
    "\n",
    "Find the probability of Eve get the key without being noticed."
   ]
  },
  {
   "cell_type": "code",
   "execution_count": 237,
   "metadata": {},
   "outputs": [],
   "source": [
    "def get_success_prob(bit_string,probs,p):\n",
    "    '''\n",
    "    prob: npndarray for probability distribution\n",
    "    p: number of bit to be check in public channel\n",
    "    '''\n",
    "    res=1\n",
    "    undetected=1\n",
    "    \n",
    "    for (k,p) in zip(key[:p],probs[:p]):\n",
    "        res*=p[k*3] # with 00 or 11\n",
    "        undetected*=p[k*3]+p[k+1] # k+1=01 or 10\n",
    "    return res,undetected"
   ]
  },
  {
   "cell_type": "code",
   "execution_count": 248,
   "metadata": {},
   "outputs": [
    {
     "name": "stdout",
     "output_type": "stream",
     "text": [
      "(0.5799815781393921, 0.7396377034080442)\n",
      "(0.10189331530332366, 0.26538130440354024)\n",
      "(0.019139051871814135, 0.09623620163029452)\n",
      "(0.005170317781023412, 0.06175853635057161)\n",
      "(0.0003814048149487507, 0.015866191907780002)\n",
      "(2.8283679784550892e-05, 0.004206409248625315)\n",
      "(5.033384432842812e-06, 0.0014705116562642015)\n",
      "(1.3115545927424025e-06, 0.0009189688439476449)\n",
      "(2.416565155131671e-07, 0.000326197759725668)\n",
      "(1.0124071438218507e-07, 0.00024252274634403603)\n",
      "(2.5975705204034735e-08, 0.00015295358863052152)\n",
      "(1.0645488254350202e-08, 0.00011212743323171863)\n",
      "(2.5473805521914113e-09, 7.065020571768466e-05)\n",
      "(2.381619813193167e-10, 1.8600502926421095e-05)\n",
      "(8.170069122581292e-11, 1.0529194097414363e-05)\n"
     ]
    }
   ],
   "source": [
    "probs=[]\n",
    "for i in range(1,16):\n",
    "    p=get_success_prob(secure_key,prob.values,i)\n",
    "    print(p)"
   ]
  },
  {
   "cell_type": "code",
   "execution_count": null,
   "metadata": {},
   "outputs": [],
   "source": [
    "import matplotlib.pylab as plt"
   ]
  },
  {
   "cell_type": "code",
   "execution_count": 250,
   "metadata": {},
   "outputs": [
    {
     "ename": "NameError",
     "evalue": "name 'plt' is not defined",
     "output_type": "error",
     "traceback": [
      "\u001b[0;31m---------------------------------------------------------------------------\u001b[0m",
      "\u001b[0;31mNameError\u001b[0m                                 Traceback (most recent call last)",
      "\u001b[0;32m<ipython-input-250-48b6754cea6c>\u001b[0m in \u001b[0;36m<module>\u001b[0;34m\u001b[0m\n\u001b[0;32m----> 1\u001b[0;31m \u001b[0mplt\u001b[0m\u001b[0;34m.\u001b[0m\u001b[0mplot\u001b[0m\u001b[0;34m(\u001b[0m\u001b[0mp\u001b[0m\u001b[0;34m)\u001b[0m\u001b[0;34m\u001b[0m\u001b[0;34m\u001b[0m\u001b[0m\n\u001b[0m",
      "\u001b[0;31mNameError\u001b[0m: name 'plt' is not defined"
     ]
    }
   ],
   "source": [
    "plt.plot(p)"
   ]
  },
  {
   "cell_type": "code",
   "execution_count": null,
   "metadata": {},
   "outputs": [],
   "source": []
  }
 ],
 "metadata": {
  "kernelspec": {
   "display_name": "Python 3",
   "language": "python",
   "name": "python3"
  },
  "language_info": {
   "codemirror_mode": {
    "name": "ipython",
    "version": 3
   },
   "file_extension": ".py",
   "mimetype": "text/x-python",
   "name": "python",
   "nbconvert_exporter": "python",
   "pygments_lexer": "ipython3",
   "version": "3.7.4"
  }
 },
 "nbformat": 4,
 "nbformat_minor": 4
}
