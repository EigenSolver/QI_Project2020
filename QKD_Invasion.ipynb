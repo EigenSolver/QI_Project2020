{
 "cells": [
  {
   "cell_type": "markdown",
   "metadata": {},
   "source": [
    "## Simulation of a QKD process invaded by Quantum Cloning Machine"
   ]
  },
  {
   "cell_type": "code",
   "execution_count": 57,
   "metadata": {},
   "outputs": [],
   "source": [
    "import numpy as np\n",
    "import pandas as pd\n",
    "\n",
    "from getpass import getpass\n",
    "from coreapi.auth import BasicAuthentication\n",
    "from quantuminspire.api import QuantumInspireAPI\n",
    "from quantuminspire.credentials import load_account, get_token_authentication, get_basic_authentication\n",
    "from quantuminspire.api import QuantumInspireAPI"
   ]
  },
  {
   "cell_type": "code",
   "execution_count": 58,
   "metadata": {},
   "outputs": [
    {
     "name": "stdout",
     "output_type": "stream",
     "text": [
      "Enter mail address\n",
      "y.zhang-108@student.tudelft.nl\n",
      "Enter password\n",
      "········\n"
     ]
    }
   ],
   "source": [
    "print('Enter mail address')\n",
    "email = input()\n",
    "\n",
    "print('Enter password')\n",
    "password = getpass()\n",
    "\n",
    "server_url = r'https://api.quantum-inspire.com'\n",
    "authentication = BasicAuthentication(email, password)\n",
    "qi = QuantumInspireAPI(server_url, authentication)"
   ]
  },
  {
   "cell_type": "code",
   "execution_count": 60,
   "metadata": {},
   "outputs": [
    {
     "name": "stdout",
     "output_type": "stream",
     "text": [
      "Backend type: Starmon-5, number of qubits: 5\n",
      "Backend type: QX single-node simulator, number of qubits: 26\n",
      "Backend type: QX single-node simulator SurfSara, number of qubits: 31\n",
      "Backend type: Spin-2, number of qubits: 2\n"
     ]
    }
   ],
   "source": [
    "qi.list_backend_types()"
   ]
  },
  {
   "cell_type": "markdown",
   "metadata": {},
   "source": [
    "### BB84 protocol: Charles H. Bennett and Gilles Brassard (1984)\n",
    "\n",
    "Bob generate the key and measurement bases"
   ]
  },
  {
   "cell_type": "code",
   "execution_count": 202,
   "metadata": {},
   "outputs": [],
   "source": [
    "n_key=64\n",
    "bitstring = np.random.randint(2,size=n_key)\n",
    "bases_A=np.random.randint(2,size=n_key)\n",
    "\n",
    "bases_B=np.random.randint(2,size=n_key)\n",
    "bases_E=bases_B.copy() # assume quantum memory"
   ]
  },
  {
   "cell_type": "markdown",
   "metadata": {},
   "source": [
    "The expection key length is 1/2 of the random bitstring."
   ]
  },
  {
   "cell_type": "code",
   "execution_count": 203,
   "metadata": {},
   "outputs": [
    {
     "data": {
      "text/plain": [
       "33"
      ]
     },
     "execution_count": 203,
     "metadata": {},
     "output_type": "execute_result"
    }
   ],
   "source": [
    "sum(bases_A==bases_B)"
   ]
  },
  {
   "cell_type": "markdown",
   "metadata": {},
   "source": [
    "If base is 0, measure in Z, otherwise measure in X.\n",
    "\n",
    "(key,base): state\n",
    "\n",
    "00: $|0\\rangle$ \n",
    "10: $|1\\rangle$ \n",
    "01: $|+\\rangle$ \n",
    "11: $|-\\rangle$ \n",
    "\n",
    "\n",
    "Alice prepare the qubit and send it to Bob.\n",
    "\n",
    "Assume Eve have a Cloning Machine and a Quantum Memory\n",
    "\n",
    "So she can clone the states and measure in the same base after Bob publish her measurement bases."
   ]
  },
  {
   "cell_type": "code",
   "execution_count": 227,
   "metadata": {},
   "outputs": [],
   "source": [
    "def QKD_QACM(key,A_base,B_base,E_base):\n",
    "    \n",
    "    # here the qubits used in circuit is 1,3 instead of 0,4, for lower error rate\n",
    "    \n",
    "    qasm ='''\n",
    "    version 2.0\n",
    "\n",
    "    qubits 5\n",
    "\n",
    "    # initialize the state\n",
    "    {0}\n",
    "    \n",
    "    #preparation\n",
    "    Ry q[0], 1.107149\n",
    "    #rewrite CNOT q[0],q[4] and CNOT q[4],q[0] usign nearest neighbors\n",
    "    SWAP q[0],q[2] \n",
    "    CNOT q[2],q[4]\n",
    "\n",
    "    Ry q[4], 0.729728\n",
    "    CNOT q[4],q[2]\n",
    "    SWAP q[0],q[2]\n",
    "\n",
    "    Ry q[0], 0.463648\n",
    "\n",
    "    #copying\n",
    "    CNOT q[2], q[0]\n",
    "    CNOT q[2], q[4]\n",
    "    CNOT q[0], q[2]\n",
    "    CNOT q[4], q[2]\n",
    "\n",
    "    #Rotate back and measure\n",
    "    {1}\n",
    "    {2}\n",
    "    '''\n",
    "    if A_base:\n",
    "        prep=\"prep_x q[2]\\n\"\n",
    "        if key:\n",
    "            prep+=\"    Z q[2]\\n\"\n",
    "    else:\n",
    "        prep=\"prep_z q[2]\\n\"\n",
    "        if key:\n",
    "            prep+=\"    X q[2]\\n\"\n",
    "            \n",
    "    meas=\"measure_x q[2]\\n\" if B_base else \"measure_z q[2]\"\n",
    "    invasion=\"measure_x q[0]\\n\" if E_base else \"measure_z q[0]\"\n",
    "    \n",
    "    return qasm.format(prep,meas,invasion)"
   ]
  },
  {
   "cell_type": "markdown",
   "metadata": {},
   "source": [
    "Check the predetermined subset of their remained key to detect a eavesdropper.\n",
    "\n",
    "If UQCM used, we can expect the error rate of key is 1/6. "
   ]
  },
  {
   "cell_type": "code",
   "execution_count": null,
   "metadata": {},
   "outputs": [
    {
     "name": "stdout",
     "output_type": "stream",
     "text": [
      "1/64\n",
      "Execution time:  0.622592\n",
      "key:1,bases_Alice:0,bases_Bob:1,bases_Eve:1\n",
      "odict_values([0.20705689277899345, 0.32029540481400437, 0.17970459518599563, 0.2929431072210066])\n"
     ]
    }
   ],
   "source": [
    "N_shots=4096\n",
    "backend_type = qi.get_backend_type_by_name('Starmon-5')\n",
    "# backend_type = qi.get_backend_type_by_name('QX single-node simulator')\n",
    "\n",
    "data=[]\n",
    "index=0\n",
    "\n",
    "for param in zip(bitstring,bases_A,bases_B,bases_E):\n",
    "    qasm=QKD_QACM(*param)\n",
    "    result = qi.execute_qasm(qasm, backend_type=backend_type, number_of_shots=N_shots)\n",
    "    hist=result.get('histogram', {}).values()\n",
    "    data.append(hist)\n",
    "    index+=1\n",
    "    \n",
    "    print(str(index)+\"/\"+str(n_key))\n",
    "    print(\"Execution time: \", result.get('execution_time_in_seconds',{}))\n",
    "    print(\"key:{0},bases_Alice:{1},bases_Bob:{2},bases_Eve:{3}\".format(*param))\n",
    "    print(hist)"
   ]
  },
  {
   "cell_type": "code",
   "execution_count": null,
   "metadata": {},
   "outputs": [],
   "source": [
    "#[bin(int(i))[2:].zfill(5) for i in hist.keys()]\n",
    "data_sheet=DataFramet=pd.DataFrame(data=np.array(list(map(list,data))), columns=[\"00\",\"01\",\"10\",\"11\"])\n",
    "data_sheet.head()"
   ]
  },
  {
   "cell_type": "code",
   "execution_count": null,
   "metadata": {},
   "outputs": [],
   "source": [
    "print(QKD_QACM(1,1,1,1))"
   ]
  },
  {
   "cell_type": "code",
   "execution_count": null,
   "metadata": {},
   "outputs": [],
   "source": [
    "np.array(list(map(list,data)))"
   ]
  },
  {
   "cell_type": "code",
   "execution_count": null,
   "metadata": {},
   "outputs": [],
   "source": [
    "data_sheet.to_excel(\"QKD_Simulation.xlsx\")"
   ]
  },
  {
   "cell_type": "markdown",
   "metadata": {},
   "source": [
    "Find the key by take same measurement bases"
   ]
  },
  {
   "cell_type": "code",
   "execution_count": null,
   "metadata": {},
   "outputs": [],
   "source": [
    "secure_key=key[bases_A==bases_B]"
   ]
  },
  {
   "cell_type": "code",
   "execution_count": null,
   "metadata": {},
   "outputs": [],
   "source": [
    "prob=data_sheet[bases_A==bases_B]"
   ]
  },
  {
   "cell_type": "markdown",
   "metadata": {},
   "source": [
    "Assume Alice and Bob preserve half of the key for secure check.\n",
    "\n",
    "Find the probability of Eve get the key without being noticed."
   ]
  },
  {
   "cell_type": "code",
   "execution_count": 225,
   "metadata": {},
   "outputs": [],
   "source": [
    "def get_success_prob(bit_string,probs,p):\n",
    "    '''\n",
    "    prob: npndarray for probability distribution\n",
    "    p: number of bit to be check in public channel\n",
    "    '''\n",
    "    res=1\n",
    "    undetected=1\n",
    "    \n",
    "    for (k,p) in zip(key[:p],probs[:p]):\n",
    "        res*=p[k*3] # with 00 or 11\n",
    "        undetected*=p[k*3]+p[k+1] # k+1=01 or 10\n",
    "    return res,undetected"
   ]
  },
  {
   "cell_type": "code",
   "execution_count": null,
   "metadata": {},
   "outputs": [],
   "source": [
    "get_success_prob(secure_key,prob.values,4)"
   ]
  },
  {
   "cell_type": "markdown",
   "metadata": {},
   "source": [
    "### E91 protocol: Artur Ekert (1991)"
   ]
  }
 ],
 "metadata": {
  "kernelspec": {
   "display_name": "Python 3",
   "language": "python",
   "name": "python3"
  },
  "language_info": {
   "codemirror_mode": {
    "name": "ipython",
    "version": 3
   },
   "file_extension": ".py",
   "mimetype": "text/x-python",
   "name": "python",
   "nbconvert_exporter": "python",
   "pygments_lexer": "ipython3",
   "version": "3.7.4"
  }
 },
 "nbformat": 4,
 "nbformat_minor": 4
}
