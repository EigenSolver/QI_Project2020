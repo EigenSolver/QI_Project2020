{
 "cells": [
  {
   "cell_type": "code",
   "execution_count": null,
   "metadata": {},
   "outputs": [],
   "source": [
    "from getpass import getpass\n",
    "from coreapi.auth import BasicAuthentication\n",
    "from quantuminspire.api import QuantumInspireAPI\n",
    "from quantuminspire.credentials import load_account, get_token_authentication, get_basic_authentication\n",
    "from quantuminspire.api import QuantumInspireAPI\n",
    "# from quantuminspire.projectq.backend_qx import QIBackend\n",
    "\n",
    "import numpy as np\n",
    "import pandas as pd\n",
    "import plotly.express as px"
   ]
  },
  {
   "cell_type": "code",
   "execution_count": null,
   "metadata": {},
   "outputs": [],
   "source": [
    "print('Enter mail address')\n",
    "email = input()\n",
    "\n",
    "print('Enter password')\n",
    "password = getpass()\n",
    "\n",
    "server_url = r'https://api.quantum-inspire.com'\n",
    "authentication = BasicAuthentication(email, password)\n",
    "qi = QuantumInspireAPI(server_url, authentication)"
   ]
  },
  {
   "cell_type": "code",
   "execution_count": null,
   "metadata": {},
   "outputs": [],
   "source": [
    "#https://stackoverflow.com/questions/9600801/evenly-distributing-n-points-on-a-sphere\n",
    "#Create n evenly distributed points on a sphere\n",
    "\n",
    "num_pts = 1000\n",
    "indices = np.arange(0, num_pts, dtype=float) + 0.5\n",
    "\n",
    "theta = np.arccos(1 - 2*indices/num_pts)\n",
    "phi = (np.pi * (1 + 5**0.5) * indices)%(2*np.pi)\n",
    "coords=[]\n",
    "\n",
    "for theta_elem,phi_elem in zip(theta,phi):\n",
    "    coords.append((theta_elem,phi_elem))\n",
    "\n",
    "x, y, z = np.cos(phi) * np.sin(theta), np.sin(phi) * np.sin(theta), np.cos(theta);\n",
    "\n",
    "# Plot the surface.\n",
    "df = px.data.iris()\n",
    "fig = px.scatter_3d(df, x, y, z, template=\"plotly_white\")\n",
    "\n",
    "fig.show()"
   ]
  },
  {
   "cell_type": "code",
   "execution_count": null,
   "metadata": {},
   "outputs": [],
   "source": [
    "def parameterized_QACM(loc):\n",
    "    θ,ϕ=loc\n",
    "    qasm = '''\n",
    "    version 1.0\n",
    "\n",
    "    qubits 5\n",
    "\n",
    "    # initialize the state\n",
    "    prep_z q[2]\n",
    "    Ry q[2], {0}\n",
    "    Rz q[2], {1}\n",
    "    \n",
    "\n",
    "    #preparation\n",
    "    Ry q[0], 1.107149\n",
    "    #rewrite CNOT q[0],q[4] and CNOT q[4],q[0] usign nearest neighbors\n",
    "    SWAP q[0],q[2] \n",
    "    CNOT q[2],q[4]\n",
    "\n",
    "    Ry q[4], 0.729728\n",
    "    CNOT q[4],q[2]\n",
    "    SWAP q[0],q[2]\n",
    "\n",
    "    Ry q[0], 0.463648\n",
    "\n",
    "    #copying\n",
    "    CNOT q[2], q[0]\n",
    "    CNOT q[2], q[4]\n",
    "    CNOT q[0], q[2]\n",
    "    CNOT q[4], q[2]\n",
    "\n",
    "    #Rotate back and measure\n",
    "    Rz q[0], {2}\n",
    "    Ry q[0], {3}\n",
    "    Measure_z q[0]\n",
    "    '''\n",
    "    return qasm.format(θ,ϕ,-ϕ,-θ)"
   ]
  },
  {
   "cell_type": "code",
   "execution_count": null,
   "metadata": {},
   "outputs": [],
   "source": [
    "npoints=100\n",
    "N_shots=4096\n",
    "backend_type = qi.get_backend_type_by_name('Starmon-5')\n",
    "target_points=np.array(coords)\n",
    "# save the data, optional\n",
    "np.savetxt(\"target_points_starmon.csv\",target_points)"
   ]
  },
  {
   "cell_type": "code",
   "execution_count": null,
   "metadata": {},
   "outputs": [],
   "source": [
    "# iterate over the sphere, run task\n",
    "\n",
    "copied_data=[]\n",
    "index=0\n",
    "\n",
    "for points in target_points:\n",
    "    qasm=parameterized_QACM(points)\n",
    "    result = qi.execute_qasm(qasm, backend_type=backend_type, number_of_shots=N_shots)\n",
    "    hist=result.get('histogram', {})\n",
    "    copied_data.append([hist[\"0\"],hist[\"1\"]])\n",
    "    index=index+1\n",
    "    print(str(index)+\"/\"+str(npoints))\n",
    "    print(\"Execution time: \", result.get('execution_time_in_seconds',{}))\n",
    "    print(points)\n",
    "    print([hist[\"0\"],hist[\"1\"]])\n",
    "    with open('results_starmon.txt', 'a') as file:\n",
    "        file.write(str(points[0])+\"\\t\"+str(points[1])+\"\\t\"+str(hist[\"0\"])+\"\\t\"+str(hist[\"1\"])+\"\\n\")\n",
    "    \n",
    "\n",
    "copied_data=np.array(copied_data)"
   ]
  },
  {
   "cell_type": "code",
   "execution_count": null,
   "metadata": {},
   "outputs": [],
   "source": [
    "data_sheet=pd.DataFrame(data=np.hstack((target_points,copied_data)),columns=[\"θ\",\"ϕ\",\"prob_0\",\"prob_1\"])"
   ]
  },
  {
   "cell_type": "code",
   "execution_count": null,
   "metadata": {},
   "outputs": [],
   "source": [
    "data_sheet.head()"
   ]
  },
  {
   "cell_type": "code",
   "execution_count": null,
   "metadata": {},
   "outputs": [],
   "source": [
    "# save to excel, optional\n",
    "data_sheet.to_excel(\"data_sheet_starmon.xlsx\")"
   ]
  },
  {
   "cell_type": "code",
   "execution_count": null,
   "metadata": {},
   "outputs": [],
   "source": [
    "data_sheet=pd.read_excel(\"data_sheet_starmon.xlsx\")"
   ]
  },
  {
   "cell_type": "code",
   "execution_count": null,
   "metadata": {},
   "outputs": [],
   "source": [
    "# Make data.\n",
    "thetas=data_sheet[\"θ\"]\n",
    "phis=data_sheet[\"ϕ\"]\n",
    "x, y, z = np.cos(phis) * np.sin(thetas), np.sin(phis) * np.sin(thetas), np.cos(thetas);\n",
    "\n",
    "# Plot the surface. F_measured/F_theory\n",
    "df = px.data.iris()\n",
    "fig = px.scatter_3d(df, x, y, z, color=data_sheet.prob_0/(5/6), template=\"plotly_white\")\n",
    "\n",
    "fig.show()\n",
    "\n"
   ]
  },
  {
   "cell_type": "code",
   "execution_count": null,
   "metadata": {},
   "outputs": [],
   "source": []
  }
 ],
 "metadata": {
  "kernelspec": {
   "display_name": "Python 3",
   "language": "python",
   "name": "python3"
  },
  "language_info": {
   "codemirror_mode": {
    "name": "ipython",
    "version": 3
   },
   "file_extension": ".py",
   "mimetype": "text/x-python",
   "name": "python",
   "nbconvert_exporter": "python",
   "pygments_lexer": "ipython3",
   "version": "3.7.4"
  }
 },
 "nbformat": 4,
 "nbformat_minor": 4
}
