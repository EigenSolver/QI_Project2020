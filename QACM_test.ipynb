{
 "cells": [
  {
   "cell_type": "code",
   "execution_count": 26,
   "metadata": {},
   "outputs": [],
   "source": [
    "import logging\n",
    "import os\n",
    "from getpass import getpass\n",
    "\n",
    "from quantuminspire.credentials import load_account, get_token_authentication, get_basic_authentication\n",
    "from quantuminspire.api import QuantumInspireAPI\n",
    "# from quantuminspire.projectq.backend_qx import QIBackend\n",
    "\n",
    "import numpy as np\n",
    "import pandas as pd"
   ]
  },
  {
   "cell_type": "code",
   "execution_count": null,
   "metadata": {},
   "outputs": [],
   "source": [
    "%env QI_EMAIL=\n",
    "%env QI_PASSWORD="
   ]
  },
  {
   "cell_type": "code",
   "execution_count": 59,
   "metadata": {},
   "outputs": [],
   "source": [
    "email = os.getenv('QI_EMAIL') \n",
    "password = os.getenv('QI_PASSWORD')\n",
    "server_url = r'https://api.quantum-inspire.com'\n",
    "\n",
    "token = load_account()\n",
    "if token is not None:\n",
    "    authentication = get_token_authentication(token)\n",
    "else:\n",
    "    authentication = get_basic_authentication(email, password)\n",
    "\n",
    "qi = QuantumInspireAPI(server_url, authentication)"
   ]
  },
  {
   "cell_type": "code",
   "execution_count": 60,
   "metadata": {},
   "outputs": [],
   "source": [
    "def sphere_meshing(n_θ, n_ϕ):\n",
    "    '''\n",
    "    n_θ: partition number for polar angle\n",
    "    n_ϕ: partition number for azimuthal angle\n",
    "    '''\n",
    "    coords=[]\n",
    "    set_θ=np.linspace(0,np.pi,n_θ)\n",
    "    set_ϕ=np.linspace(0,2*np.pi,n_ϕ)\n",
    "    for θ in set_θ:\n",
    "        for ϕ in set_ϕ:\n",
    "            coords.append((θ,ϕ))\n",
    "    return coords"
   ]
  },
  {
   "cell_type": "code",
   "execution_count": 61,
   "metadata": {},
   "outputs": [],
   "source": [
    "def parameterized_QACM(loc):\n",
    "    θ,ϕ=loc\n",
    "    qasm = '''\n",
    "    version 1.0\n",
    "\n",
    "    qubits 5\n",
    "\n",
    "    # initialize the state\n",
    "    prep_z q[2]\n",
    "    Ry q[2], {0}\n",
    "    Rz q[2], {1}\n",
    "    \n",
    "\n",
    "    #preparation\n",
    "    Ry q[0], 1.107149\n",
    "    #rewrite CNOT q[0],q[4] and CNOT q[4],q[0] usign nearest neighbors\n",
    "    SWAP q[0],q[2] \n",
    "    CNOT q[2],q[4]\n",
    "\n",
    "    Ry q[4], 0.729728\n",
    "    CNOT q[4],q[2]\n",
    "    SWAP q[0],q[2]\n",
    "\n",
    "    Ry q[0], 0.463648\n",
    "\n",
    "    #copying\n",
    "    CNOT q[2], q[0]\n",
    "    CNOT q[2], q[4]\n",
    "    CNOT q[0], q[2]\n",
    "    CNOT q[4], q[2]\n",
    "\n",
    "    #Rotate back and measure\n",
    "    Rz q[2], {2}\n",
    "    Ry q[2], {3}\n",
    "    Measure_z q[0]\n",
    "    '''\n",
    "    return qasm.format(θ,ϕ,-ϕ,-θ)"
   ]
  },
  {
   "cell_type": "code",
   "execution_count": 73,
   "metadata": {},
   "outputs": [],
   "source": [
    "# evenly mesh the sphere, set parameter\n",
    "n_theta=10\n",
    "n_phi=20\n",
    "N_shots=2048\n",
    "\n",
    "target_points=np.array(sphere_meshing(n_theta,n_phi))\n",
    "# save the data, optional\n",
    "np.savetxt(\"target_points.csv\",target_points)"
   ]
  },
  {
   "cell_type": "code",
   "execution_count": 74,
   "metadata": {},
   "outputs": [],
   "source": [
    "# iterate over the sphere, run task\n",
    "N=n_theta*n_phi\n",
    "backend_type = qi.get_backend_type_by_name('Starmon-5')\n",
    "\n",
    "copied_data=[]\n",
    "for points in target_points:\n",
    "    qasm=parameterized_QACM(points)\n",
    "    result = qi.execute_qasm(qasm, backend_type=backend_type, number_of_shots=N_shots)\n",
    "    hist=result.get('histogram', {})\n",
    "    copied_data.append([hist[\"0\"],hist[\"1\"]])\n",
    "copied_data=np.array(copied_data)\n"
   ]
  },
  {
   "cell_type": "code",
   "execution_count": 75,
   "metadata": {},
   "outputs": [],
   "source": [
    "data_sheet=pd.DataFrame(data=np.hstack((target_points,copied_data)),columns=[\"θ\",\"ϕ\",\"prob_0\",\"prob_1\"])"
   ]
  },
  {
   "cell_type": "code",
   "execution_count": 76,
   "metadata": {},
   "outputs": [
    {
     "data": {
      "text/html": [
       "<div>\n",
       "<style scoped>\n",
       "    .dataframe tbody tr th:only-of-type {\n",
       "        vertical-align: middle;\n",
       "    }\n",
       "\n",
       "    .dataframe tbody tr th {\n",
       "        vertical-align: top;\n",
       "    }\n",
       "\n",
       "    .dataframe thead th {\n",
       "        text-align: right;\n",
       "    }\n",
       "</style>\n",
       "<table border=\"1\" class=\"dataframe\">\n",
       "  <thead>\n",
       "    <tr style=\"text-align: right;\">\n",
       "      <th></th>\n",
       "      <th>θ</th>\n",
       "      <th>ϕ</th>\n",
       "      <th>prob_0</th>\n",
       "      <th>prob_1</th>\n",
       "    </tr>\n",
       "  </thead>\n",
       "  <tbody>\n",
       "    <tr>\n",
       "      <th>0</th>\n",
       "      <td>0.0</td>\n",
       "      <td>0.000000</td>\n",
       "      <td>0.700684</td>\n",
       "      <td>0.299316</td>\n",
       "    </tr>\n",
       "    <tr>\n",
       "      <th>1</th>\n",
       "      <td>0.0</td>\n",
       "      <td>0.330694</td>\n",
       "      <td>0.705078</td>\n",
       "      <td>0.294922</td>\n",
       "    </tr>\n",
       "    <tr>\n",
       "      <th>2</th>\n",
       "      <td>0.0</td>\n",
       "      <td>0.661388</td>\n",
       "      <td>0.708008</td>\n",
       "      <td>0.291992</td>\n",
       "    </tr>\n",
       "    <tr>\n",
       "      <th>3</th>\n",
       "      <td>0.0</td>\n",
       "      <td>0.992082</td>\n",
       "      <td>0.716309</td>\n",
       "      <td>0.283691</td>\n",
       "    </tr>\n",
       "    <tr>\n",
       "      <th>4</th>\n",
       "      <td>0.0</td>\n",
       "      <td>1.322776</td>\n",
       "      <td>0.724121</td>\n",
       "      <td>0.275879</td>\n",
       "    </tr>\n",
       "  </tbody>\n",
       "</table>\n",
       "</div>"
      ],
      "text/plain": [
       "     θ         ϕ    prob_0    prob_1\n",
       "0  0.0  0.000000  0.700684  0.299316\n",
       "1  0.0  0.330694  0.705078  0.294922\n",
       "2  0.0  0.661388  0.708008  0.291992\n",
       "3  0.0  0.992082  0.716309  0.283691\n",
       "4  0.0  1.322776  0.724121  0.275879"
      ]
     },
     "execution_count": 76,
     "metadata": {},
     "output_type": "execute_result"
    }
   ],
   "source": [
    "data_sheet.head()"
   ]
  },
  {
   "cell_type": "code",
   "execution_count": 77,
   "metadata": {},
   "outputs": [],
   "source": [
    "# save to excel, optional\n",
    "data_sheet.to_excel(\"data_sheet.xlsx\")"
   ]
  }
 ],
 "metadata": {
  "kernelspec": {
   "display_name": "Python 3",
   "language": "python",
   "name": "python3"
  },
  "language_info": {
   "codemirror_mode": {
    "name": "ipython",
    "version": 3
   },
   "file_extension": ".py",
   "mimetype": "text/x-python",
   "name": "python",
   "nbconvert_exporter": "python",
   "pygments_lexer": "ipython3",
   "version": "3.7.4"
  }
 },
 "nbformat": 4,
 "nbformat_minor": 4
}
