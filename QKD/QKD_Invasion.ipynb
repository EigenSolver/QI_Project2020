{
 "cells": [
  {
   "cell_type": "markdown",
   "metadata": {},
   "source": [
    "## Simulation of a QKD process invaded by Quantum Cloning Machine"
   ]
  },
  {
   "cell_type": "code",
   "execution_count": 1,
   "metadata": {},
   "outputs": [],
   "source": [
    "import numpy as np\n",
    "import pandas as pd\n",
    "import matplotlib.pylab as plt\n",
    "\n",
    "from getpass import getpass\n",
    "from coreapi.auth import BasicAuthentication\n",
    "from quantuminspire.api import QuantumInspireAPI\n",
    "from quantuminspire.credentials import load_account, get_token_authentication, get_basic_authentication\n",
    "from quantuminspire.api import QuantumInspireAPI"
   ]
  },
  {
   "cell_type": "code",
   "execution_count": 18,
   "metadata": {},
   "outputs": [
    {
     "name": "stdout",
     "output_type": "stream",
     "text": [
      "Enter mail address\n",
      "y.zhang-108@student.tudelft.nl\n",
      "Enter password\n",
      "········\n"
     ]
    }
   ],
   "source": [
    "print('Enter mail address')\n",
    "email = input()\n",
    "\n",
    "print('Enter password')\n",
    "password = getpass()\n",
    "\n",
    "server_url = r'https://api.quantum-inspire.com'\n",
    "authentication = BasicAuthentication(email, password)\n",
    "qi = QuantumInspireAPI(server_url, authentication)"
   ]
  },
  {
   "cell_type": "code",
   "execution_count": 19,
   "metadata": {},
   "outputs": [
    {
     "name": "stdout",
     "output_type": "stream",
     "text": [
      "Backend type: Spin-2, number of qubits: 2\n",
      "Backend type: Starmon-5, number of qubits: 5\n",
      "Backend type: QX single-node simulator, number of qubits: 26\n",
      "Backend type: QX single-node simulator SurfSara, number of qubits: 31\n"
     ]
    }
   ],
   "source": [
    "qi.list_backend_types()"
   ]
  },
  {
   "cell_type": "markdown",
   "metadata": {},
   "source": [
    "### BB84 protocol: Charles H. Bennett and Gilles Brassard (1984)\n",
    "\n",
    "Bob generate the key and measurement bases"
   ]
  },
  {
   "cell_type": "markdown",
   "metadata": {},
   "source": [
    "**QKD with 128 bit length**"
   ]
  },
  {
   "cell_type": "code",
   "execution_count": 341,
   "metadata": {},
   "outputs": [],
   "source": [
    "n_key=128\n",
    "bitstring = np.random.randint(2,size=n_key)\n",
    "bases_A=np.random.randint(2,size=n_key)\n",
    "bases_B=bases_A.copy()\n",
    "# bases_B=np.random.randint(2,size=n_key)\n",
    "bases_E=bases_B.copy() # assume quantum memory"
   ]
  },
  {
   "cell_type": "markdown",
   "metadata": {},
   "source": [
    "The expection key length is 1/2 of the random bitstring."
   ]
  },
  {
   "cell_type": "code",
   "execution_count": 340,
   "metadata": {},
   "outputs": [
    {
     "data": {
      "text/plain": [
       "128"
      ]
     },
     "execution_count": 340,
     "metadata": {},
     "output_type": "execute_result"
    }
   ],
   "source": [
    "sum(bases_A==bases_B)"
   ]
  },
  {
   "cell_type": "markdown",
   "metadata": {},
   "source": [
    "If base is 0, measure in Z, otherwise measure in X.\n",
    "\n",
    "(key,base): state\n",
    "\n",
    "00: $|0\\rangle$ \n",
    "10: $|1\\rangle$ \n",
    "01: $|+\\rangle$ \n",
    "11: $|-\\rangle$ \n",
    "\n",
    "\n",
    "Alice prepare the qubit and send it to Bob.\n",
    "\n",
    "Assume Eve have a Cloning Machine and a Quantum Memory\n",
    "\n",
    "So she can clone the states and measure in the same base after Bob publish her measurement bases."
   ]
  },
  {
   "cell_type": "code",
   "execution_count": 5,
   "metadata": {},
   "outputs": [],
   "source": [
    "def QKD_QACM(key,A_base,B_base,E_base):\n",
    "    \n",
    "    # here the qubits used in circuit is 1,3 instead of 0,4, for lower error rate\n",
    "    \n",
    "    qasm ='''\n",
    "    version 2.0\n",
    "\n",
    "    qubits 5\n",
    "\n",
    "    # initialize the state\n",
    "    {0}\n",
    "    \n",
    "    #preparation\n",
    "    Ry q[0], 1.107149\n",
    "    #rewrite CNOT q[0],q[4] and CNOT q[4],q[0] usign nearest neighbors\n",
    "    SWAP q[0],q[2] \n",
    "    CNOT q[2],q[4]\n",
    "\n",
    "    Ry q[4], 0.729728\n",
    "    CNOT q[4],q[2]\n",
    "    SWAP q[0],q[2]\n",
    "\n",
    "    Ry q[0], 0.463648\n",
    "\n",
    "    #copying\n",
    "    CNOT q[2], q[0]\n",
    "    CNOT q[2], q[4]\n",
    "    CNOT q[0], q[2]\n",
    "    CNOT q[4], q[2]\n",
    "\n",
    "    #Rotate back and measure\n",
    "    {1}\n",
    "    {2}\n",
    "    '''\n",
    "    if A_base:\n",
    "        prep=\"prep_x q[2]\\n\"\n",
    "        if key:\n",
    "            prep+=\"    Z q[2]\\n\"\n",
    "    else:\n",
    "        prep=\"prep_z q[2]\\n\"\n",
    "        if key:\n",
    "            prep+=\"    X q[2]\\n\"\n",
    "            \n",
    "    meas=\"measure_x q[2]\\n\" if B_base else \"measure_z q[2]\"\n",
    "    invasion=\"measure_x q[0]\\n\" if E_base else \"measure_z q[0]\"\n",
    "    \n",
    "    return qasm.format(prep,meas,invasion)"
   ]
  },
  {
   "cell_type": "code",
   "execution_count": 6,
   "metadata": {},
   "outputs": [],
   "source": [
    "#[bin(int(i))[2:].zfill(5) for i in hist.keys()]\n",
    "@np.vectorize\n",
    "def to_XZ(i):\n",
    "    return (\"Z\",\"X\")[i]"
   ]
  },
  {
   "cell_type": "markdown",
   "metadata": {},
   "source": [
    "Check the predetermined subset of their remained key to detect a eavesdropper.\n",
    "\n",
    "If UQCM used, we can expect the error rate of key is 1/6. "
   ]
  },
  {
   "cell_type": "code",
   "execution_count": 343,
   "metadata": {},
   "outputs": [
    {
     "name": "stdout",
     "output_type": "stream",
     "text": [
      "1/128\n",
      "Execution time:  0.000152\n",
      "key:0,bases_Alice:0,bases_Bob:0,bases_Eve:0\n",
      "00100\n",
      "[1.0]\n",
      "2/128\n",
      "Execution time:  0.000152\n",
      "key:1,bases_Alice:1,bases_Bob:1,bases_Eve:1\n",
      "00100\n",
      "[1.0]\n",
      "3/128\n",
      "Execution time:  0.000152\n",
      "key:0,bases_Alice:1,bases_Bob:1,bases_Eve:1\n",
      "00001\n",
      "[1.0]\n",
      "4/128\n",
      "Execution time:  0.000152\n",
      "key:1,bases_Alice:1,bases_Bob:1,bases_Eve:1\n",
      "00101\n",
      "[1.0]\n",
      "5/128\n",
      "Execution time:  0.000152\n",
      "key:0,bases_Alice:0,bases_Bob:0,bases_Eve:0\n",
      "00000\n",
      "[1.0]\n",
      "6/128\n",
      "Execution time:  0.000152\n",
      "key:0,bases_Alice:1,bases_Bob:1,bases_Eve:1\n",
      "00001\n",
      "[1.0]\n",
      "7/128\n",
      "Execution time:  0.000152\n",
      "key:0,bases_Alice:0,bases_Bob:0,bases_Eve:0\n",
      "00101\n",
      "[1.0]\n",
      "8/128\n",
      "Execution time:  0.000152\n",
      "key:0,bases_Alice:0,bases_Bob:0,bases_Eve:0\n",
      "00100\n",
      "[1.0]\n",
      "9/128\n",
      "Execution time:  0.000152\n",
      "key:0,bases_Alice:1,bases_Bob:1,bases_Eve:1\n",
      "00000\n",
      "[1.0]\n",
      "10/128\n",
      "Execution time:  0.000152\n",
      "key:0,bases_Alice:0,bases_Bob:0,bases_Eve:0\n",
      "00000\n",
      "[1.0]\n",
      "11/128\n",
      "Execution time:  0.000152\n",
      "key:0,bases_Alice:0,bases_Bob:0,bases_Eve:0\n",
      "00000\n",
      "[1.0]\n",
      "12/128\n",
      "Execution time:  0.000152\n",
      "key:1,bases_Alice:1,bases_Bob:1,bases_Eve:1\n",
      "00001\n",
      "[1.0]\n",
      "13/128\n",
      "Execution time:  0.000152\n",
      "key:1,bases_Alice:1,bases_Bob:1,bases_Eve:1\n",
      "00101\n",
      "[1.0]\n",
      "14/128\n",
      "Execution time:  0.000152\n",
      "key:1,bases_Alice:0,bases_Bob:0,bases_Eve:0\n",
      "00101\n",
      "[1.0]\n",
      "15/128\n",
      "Execution time:  0.000152\n",
      "key:0,bases_Alice:1,bases_Bob:1,bases_Eve:1\n",
      "00001\n",
      "[1.0]\n",
      "16/128\n",
      "Execution time:  0.000152\n",
      "key:0,bases_Alice:0,bases_Bob:0,bases_Eve:0\n",
      "00001\n",
      "[1.0]\n",
      "17/128\n",
      "Execution time:  0.000152\n",
      "key:1,bases_Alice:1,bases_Bob:1,bases_Eve:1\n",
      "00101\n",
      "[1.0]\n",
      "18/128\n",
      "Execution time:  0.000152\n",
      "key:1,bases_Alice:1,bases_Bob:1,bases_Eve:1\n",
      "00100\n",
      "[1.0]\n",
      "19/128\n",
      "Execution time:  0.000152\n",
      "key:0,bases_Alice:0,bases_Bob:0,bases_Eve:0\n",
      "00000\n",
      "[1.0]\n",
      "20/128\n",
      "Execution time:  0.000152\n",
      "key:1,bases_Alice:0,bases_Bob:0,bases_Eve:0\n",
      "00000\n",
      "[1.0]\n",
      "21/128\n",
      "Execution time:  0.000152\n",
      "key:0,bases_Alice:1,bases_Bob:1,bases_Eve:1\n",
      "00101\n",
      "[1.0]\n",
      "22/128\n",
      "Execution time:  0.000152\n",
      "key:1,bases_Alice:0,bases_Bob:0,bases_Eve:0\n",
      "00000\n",
      "[1.0]\n",
      "23/128\n",
      "Execution time:  0.000152\n",
      "key:1,bases_Alice:1,bases_Bob:1,bases_Eve:1\n",
      "00000\n",
      "[1.0]\n",
      "24/128\n",
      "Execution time:  0.000152\n",
      "key:1,bases_Alice:0,bases_Bob:0,bases_Eve:0\n",
      "00101\n",
      "[1.0]\n",
      "25/128\n",
      "Execution time:  0.000152\n",
      "key:1,bases_Alice:0,bases_Bob:0,bases_Eve:0\n",
      "00101\n",
      "[1.0]\n",
      "26/128\n",
      "Execution time:  0.000152\n",
      "key:0,bases_Alice:1,bases_Bob:1,bases_Eve:1\n",
      "00001\n",
      "[1.0]\n",
      "27/128\n",
      "Execution time:  0.000152\n",
      "key:1,bases_Alice:1,bases_Bob:1,bases_Eve:1\n",
      "00000\n",
      "[1.0]\n",
      "28/128\n",
      "Execution time:  0.000152\n",
      "key:0,bases_Alice:0,bases_Bob:0,bases_Eve:0\n",
      "00001\n",
      "[1.0]\n",
      "29/128\n",
      "Execution time:  0.000152\n",
      "key:0,bases_Alice:0,bases_Bob:0,bases_Eve:0\n",
      "00101\n",
      "[1.0]\n",
      "30/128\n",
      "Execution time:  0.000152\n",
      "key:1,bases_Alice:1,bases_Bob:1,bases_Eve:1\n",
      "00100\n",
      "[1.0]\n",
      "31/128\n",
      "Execution time:  0.000152\n",
      "key:1,bases_Alice:1,bases_Bob:1,bases_Eve:1\n",
      "00100\n",
      "[1.0]\n",
      "32/128\n",
      "Execution time:  0.000152\n",
      "key:0,bases_Alice:0,bases_Bob:0,bases_Eve:0\n",
      "00000\n",
      "[1.0]\n",
      "33/128\n",
      "Execution time:  0.000152\n",
      "key:0,bases_Alice:0,bases_Bob:0,bases_Eve:0\n",
      "00000\n",
      "[1.0]\n",
      "34/128\n",
      "Execution time:  0.000152\n",
      "key:1,bases_Alice:1,bases_Bob:1,bases_Eve:1\n",
      "00001\n",
      "[1.0]\n",
      "35/128\n",
      "Execution time:  0.000152\n",
      "key:0,bases_Alice:1,bases_Bob:1,bases_Eve:1\n",
      "00001\n",
      "[1.0]\n",
      "36/128\n",
      "Execution time:  0.000152\n",
      "key:0,bases_Alice:1,bases_Bob:1,bases_Eve:1\n",
      "00000\n",
      "[1.0]\n",
      "37/128\n",
      "Execution time:  0.000152\n",
      "key:0,bases_Alice:1,bases_Bob:1,bases_Eve:1\n",
      "00001\n",
      "[1.0]\n",
      "38/128\n",
      "Execution time:  0.000152\n",
      "key:0,bases_Alice:1,bases_Bob:1,bases_Eve:1\n",
      "00001\n",
      "[1.0]\n",
      "39/128\n",
      "Execution time:  0.000152\n",
      "key:0,bases_Alice:0,bases_Bob:0,bases_Eve:0\n",
      "00100\n",
      "[1.0]\n",
      "40/128\n",
      "Execution time:  0.000152\n",
      "key:0,bases_Alice:0,bases_Bob:0,bases_Eve:0\n",
      "00000\n",
      "[1.0]\n",
      "41/128\n",
      "Execution time:  0.000152\n",
      "key:1,bases_Alice:1,bases_Bob:1,bases_Eve:1\n",
      "00001\n",
      "[1.0]\n",
      "42/128\n",
      "Execution time:  0.000152\n",
      "key:0,bases_Alice:1,bases_Bob:1,bases_Eve:1\n",
      "00001\n",
      "[1.0]\n",
      "43/128\n",
      "Execution time:  0.000152\n",
      "key:1,bases_Alice:1,bases_Bob:1,bases_Eve:1\n",
      "00000\n",
      "[1.0]\n",
      "44/128\n",
      "Execution time:  0.000152\n",
      "key:1,bases_Alice:0,bases_Bob:0,bases_Eve:0\n",
      "00000\n",
      "[1.0]\n",
      "45/128\n",
      "Execution time:  0.000152\n",
      "key:1,bases_Alice:1,bases_Bob:1,bases_Eve:1\n",
      "00101\n",
      "[1.0]\n",
      "46/128\n",
      "Execution time:  0.000152\n",
      "key:0,bases_Alice:0,bases_Bob:0,bases_Eve:0\n",
      "00000\n",
      "[1.0]\n",
      "47/128\n",
      "Execution time:  0.000152\n",
      "key:1,bases_Alice:1,bases_Bob:1,bases_Eve:1\n",
      "00100\n",
      "[1.0]\n",
      "48/128\n",
      "Execution time:  0.000152\n",
      "key:0,bases_Alice:0,bases_Bob:0,bases_Eve:0\n",
      "00001\n",
      "[1.0]\n",
      "49/128\n",
      "Execution time:  0.000152\n",
      "key:1,bases_Alice:1,bases_Bob:1,bases_Eve:1\n",
      "00100\n",
      "[1.0]\n",
      "50/128\n",
      "Execution time:  0.000152\n",
      "key:1,bases_Alice:0,bases_Bob:0,bases_Eve:0\n",
      "00101\n",
      "[1.0]\n",
      "51/128\n",
      "Execution time:  0.000152\n",
      "key:0,bases_Alice:1,bases_Bob:1,bases_Eve:1\n",
      "00000\n",
      "[1.0]\n",
      "52/128\n",
      "Execution time:  0.000152\n",
      "key:0,bases_Alice:1,bases_Bob:1,bases_Eve:1\n",
      "00101\n",
      "[1.0]\n",
      "53/128\n",
      "Execution time:  0.000152\n",
      "key:0,bases_Alice:1,bases_Bob:1,bases_Eve:1\n",
      "00001\n",
      "[1.0]\n",
      "54/128\n",
      "Execution time:  0.000152\n",
      "key:0,bases_Alice:1,bases_Bob:1,bases_Eve:1\n",
      "00101\n",
      "[1.0]\n",
      "55/128\n",
      "Execution time:  0.000152\n",
      "key:0,bases_Alice:0,bases_Bob:0,bases_Eve:0\n",
      "00000\n",
      "[1.0]\n",
      "56/128\n",
      "Execution time:  0.000152\n",
      "key:1,bases_Alice:0,bases_Bob:0,bases_Eve:0\n",
      "00000\n",
      "[1.0]\n",
      "57/128\n",
      "Execution time:  0.000152\n",
      "key:1,bases_Alice:0,bases_Bob:0,bases_Eve:0\n",
      "00101\n",
      "[1.0]\n",
      "58/128\n",
      "Execution time:  0.000152\n",
      "key:0,bases_Alice:0,bases_Bob:0,bases_Eve:0\n",
      "00000\n",
      "[1.0]\n",
      "59/128\n",
      "Execution time:  0.000152\n",
      "key:0,bases_Alice:1,bases_Bob:1,bases_Eve:1\n",
      "00001\n",
      "[1.0]\n",
      "60/128\n",
      "Execution time:  0.000152\n",
      "key:1,bases_Alice:1,bases_Bob:1,bases_Eve:1\n",
      "00000\n",
      "[1.0]\n",
      "61/128\n",
      "Execution time:  0.000152\n",
      "key:1,bases_Alice:1,bases_Bob:1,bases_Eve:1\n",
      "00000\n",
      "[1.0]\n",
      "62/128\n",
      "Execution time:  0.000152\n",
      "key:0,bases_Alice:0,bases_Bob:0,bases_Eve:0\n",
      "00100\n",
      "[1.0]\n",
      "63/128\n",
      "Execution time:  0.000152\n",
      "key:0,bases_Alice:0,bases_Bob:0,bases_Eve:0\n",
      "00100\n",
      "[1.0]\n",
      "64/128\n",
      "Execution time:  0.000152\n",
      "key:0,bases_Alice:0,bases_Bob:0,bases_Eve:0\n",
      "00000\n",
      "[1.0]\n",
      "65/128\n",
      "Execution time:  0.000152\n",
      "key:1,bases_Alice:0,bases_Bob:0,bases_Eve:0\n",
      "00001\n",
      "[1.0]\n",
      "66/128\n",
      "Execution time:  0.000152\n",
      "key:0,bases_Alice:0,bases_Bob:0,bases_Eve:0\n",
      "00000\n",
      "[1.0]\n",
      "67/128\n",
      "Execution time:  0.000152\n",
      "key:1,bases_Alice:1,bases_Bob:1,bases_Eve:1\n",
      "00100\n",
      "[1.0]\n",
      "68/128\n",
      "Execution time:  0.000152\n",
      "key:1,bases_Alice:0,bases_Bob:0,bases_Eve:0\n",
      "00001\n",
      "[1.0]\n",
      "69/128\n",
      "Execution time:  0.000152\n",
      "key:0,bases_Alice:1,bases_Bob:1,bases_Eve:1\n",
      "00100\n",
      "[1.0]\n",
      "70/128\n",
      "Execution time:  0.000152\n",
      "key:1,bases_Alice:0,bases_Bob:0,bases_Eve:0\n",
      "00001\n",
      "[1.0]\n",
      "71/128\n",
      "Execution time:  0.000152\n",
      "key:0,bases_Alice:0,bases_Bob:0,bases_Eve:0\n",
      "00000\n",
      "[1.0]\n",
      "72/128\n",
      "Execution time:  0.000152\n",
      "key:0,bases_Alice:0,bases_Bob:0,bases_Eve:0\n",
      "00100\n",
      "[1.0]\n",
      "73/128\n",
      "Execution time:  0.000152\n",
      "key:0,bases_Alice:1,bases_Bob:1,bases_Eve:1\n",
      "00001\n",
      "[1.0]\n",
      "74/128\n",
      "Execution time:  0.000152\n",
      "key:0,bases_Alice:1,bases_Bob:1,bases_Eve:1\n",
      "00000\n",
      "[1.0]\n",
      "75/128\n",
      "Execution time:  0.000152\n",
      "key:1,bases_Alice:1,bases_Bob:1,bases_Eve:1\n",
      "00001\n",
      "[1.0]\n",
      "76/128\n",
      "Execution time:  0.000152\n",
      "key:1,bases_Alice:0,bases_Bob:0,bases_Eve:0\n",
      "00101\n",
      "[1.0]\n",
      "77/128\n",
      "Execution time:  0.000152\n",
      "key:1,bases_Alice:0,bases_Bob:0,bases_Eve:0\n",
      "00000\n",
      "[1.0]\n",
      "78/128\n",
      "Execution time:  0.000152\n",
      "key:1,bases_Alice:0,bases_Bob:0,bases_Eve:0\n",
      "00101\n",
      "[1.0]\n",
      "79/128\n",
      "Execution time:  0.000152\n",
      "key:0,bases_Alice:0,bases_Bob:0,bases_Eve:0\n",
      "00000\n",
      "[1.0]\n",
      "80/128\n",
      "Execution time:  0.000152\n",
      "key:0,bases_Alice:1,bases_Bob:1,bases_Eve:1\n",
      "00101\n",
      "[1.0]\n",
      "81/128\n",
      "Execution time:  0.000152\n",
      "key:1,bases_Alice:1,bases_Bob:1,bases_Eve:1\n",
      "00100\n",
      "[1.0]\n",
      "82/128\n",
      "Execution time:  0.000152\n",
      "key:1,bases_Alice:0,bases_Bob:0,bases_Eve:0\n",
      "00001\n",
      "[1.0]\n",
      "83/128\n",
      "Execution time:  0.000152\n",
      "key:1,bases_Alice:1,bases_Bob:1,bases_Eve:1\n",
      "00100\n",
      "[1.0]\n",
      "84/128\n",
      "Execution time:  0.000152\n",
      "key:0,bases_Alice:0,bases_Bob:0,bases_Eve:0\n",
      "00101\n",
      "[1.0]\n",
      "85/128\n",
      "Execution time:  0.000152\n",
      "key:0,bases_Alice:1,bases_Bob:1,bases_Eve:1\n",
      "00000\n",
      "[1.0]\n",
      "86/128\n",
      "Execution time:  0.000152\n",
      "key:0,bases_Alice:1,bases_Bob:1,bases_Eve:1\n",
      "00001\n",
      "[1.0]\n",
      "87/128\n",
      "Execution time:  0.000152\n",
      "key:0,bases_Alice:1,bases_Bob:1,bases_Eve:1\n",
      "00001\n",
      "[1.0]\n",
      "88/128\n",
      "Execution time:  0.000152\n",
      "key:1,bases_Alice:1,bases_Bob:1,bases_Eve:1\n",
      "00100\n",
      "[1.0]\n",
      "89/128\n",
      "Execution time:  0.000152\n",
      "key:0,bases_Alice:0,bases_Bob:0,bases_Eve:0\n",
      "00101\n",
      "[1.0]\n",
      "90/128\n",
      "Execution time:  0.000152\n",
      "key:1,bases_Alice:1,bases_Bob:1,bases_Eve:1\n",
      "00001\n",
      "[1.0]\n",
      "91/128\n",
      "Execution time:  0.000152\n",
      "key:0,bases_Alice:0,bases_Bob:0,bases_Eve:0\n",
      "00000\n",
      "[1.0]\n",
      "92/128\n",
      "Execution time:  0.000152\n",
      "key:1,bases_Alice:1,bases_Bob:1,bases_Eve:1\n",
      "00001\n",
      "[1.0]\n",
      "93/128\n",
      "Execution time:  0.000152\n",
      "key:1,bases_Alice:1,bases_Bob:1,bases_Eve:1\n",
      "00100\n",
      "[1.0]\n"
     ]
    },
    {
     "name": "stdout",
     "output_type": "stream",
     "text": [
      "94/128\n",
      "Execution time:  0.000152\n",
      "key:1,bases_Alice:0,bases_Bob:0,bases_Eve:0\n",
      "00100\n",
      "[1.0]\n",
      "95/128\n",
      "Execution time:  0.000152\n",
      "key:0,bases_Alice:1,bases_Bob:1,bases_Eve:1\n",
      "00001\n",
      "[1.0]\n",
      "96/128\n",
      "Execution time:  0.000152\n",
      "key:1,bases_Alice:1,bases_Bob:1,bases_Eve:1\n",
      "00001\n",
      "[1.0]\n",
      "97/128\n",
      "Execution time:  0.000152\n",
      "key:0,bases_Alice:0,bases_Bob:0,bases_Eve:0\n",
      "00000\n",
      "[1.0]\n",
      "98/128\n",
      "Execution time:  0.000152\n",
      "key:1,bases_Alice:0,bases_Bob:0,bases_Eve:0\n",
      "00101\n",
      "[1.0]\n",
      "99/128\n",
      "Execution time:  0.000152\n",
      "key:0,bases_Alice:1,bases_Bob:1,bases_Eve:1\n",
      "00001\n",
      "[1.0]\n",
      "100/128\n",
      "Execution time:  0.000152\n",
      "key:1,bases_Alice:0,bases_Bob:0,bases_Eve:0\n",
      "00101\n",
      "[1.0]\n",
      "101/128\n",
      "Execution time:  0.000152\n",
      "key:0,bases_Alice:1,bases_Bob:1,bases_Eve:1\n",
      "00001\n",
      "[1.0]\n",
      "102/128\n",
      "Execution time:  0.000152\n",
      "key:1,bases_Alice:1,bases_Bob:1,bases_Eve:1\n",
      "00100\n",
      "[1.0]\n",
      "103/128\n",
      "Execution time:  0.000152\n",
      "key:0,bases_Alice:1,bases_Bob:1,bases_Eve:1\n",
      "00100\n",
      "[1.0]\n",
      "104/128\n",
      "Execution time:  0.000152\n",
      "key:1,bases_Alice:0,bases_Bob:0,bases_Eve:0\n",
      "00100\n",
      "[1.0]\n",
      "105/128\n",
      "Execution time:  0.000152\n",
      "key:0,bases_Alice:1,bases_Bob:1,bases_Eve:1\n",
      "00001\n",
      "[1.0]\n",
      "106/128\n",
      "Execution time:  0.000152\n",
      "key:1,bases_Alice:1,bases_Bob:1,bases_Eve:1\n",
      "00101\n",
      "[1.0]\n",
      "107/128\n",
      "Execution time:  0.000152\n",
      "key:1,bases_Alice:1,bases_Bob:1,bases_Eve:1\n",
      "00100\n",
      "[1.0]\n",
      "108/128\n",
      "Execution time:  0.000152\n",
      "key:0,bases_Alice:0,bases_Bob:0,bases_Eve:0\n",
      "00000\n",
      "[1.0]\n",
      "109/128\n",
      "Execution time:  0.000152\n",
      "key:1,bases_Alice:1,bases_Bob:1,bases_Eve:1\n",
      "00100\n",
      "[1.0]\n",
      "110/128\n",
      "Execution time:  0.000152\n",
      "key:1,bases_Alice:1,bases_Bob:1,bases_Eve:1\n",
      "00101\n",
      "[1.0]\n",
      "111/128\n",
      "Execution time:  0.000152\n",
      "key:0,bases_Alice:0,bases_Bob:0,bases_Eve:0\n",
      "00000\n",
      "[1.0]\n",
      "112/128\n",
      "Execution time:  0.000152\n",
      "key:1,bases_Alice:0,bases_Bob:0,bases_Eve:0\n",
      "00101\n",
      "[1.0]\n",
      "113/128\n",
      "Execution time:  0.000152\n",
      "key:1,bases_Alice:1,bases_Bob:1,bases_Eve:1\n",
      "00101\n",
      "[1.0]\n",
      "114/128\n",
      "Execution time:  0.000152\n",
      "key:1,bases_Alice:1,bases_Bob:1,bases_Eve:1\n",
      "00100\n",
      "[1.0]\n",
      "115/128\n",
      "Execution time:  0.000152\n",
      "key:0,bases_Alice:1,bases_Bob:1,bases_Eve:1\n",
      "00000\n",
      "[1.0]\n",
      "116/128\n",
      "Execution time:  0.000152\n",
      "key:1,bases_Alice:0,bases_Bob:0,bases_Eve:0\n",
      "00001\n",
      "[1.0]\n",
      "117/128\n",
      "Execution time:  0.000152\n",
      "key:0,bases_Alice:1,bases_Bob:1,bases_Eve:1\n",
      "00001\n",
      "[1.0]\n",
      "118/128\n",
      "Execution time:  0.000152\n",
      "key:1,bases_Alice:1,bases_Bob:1,bases_Eve:1\n",
      "00100\n",
      "[1.0]\n",
      "119/128\n",
      "Execution time:  0.000152\n",
      "key:1,bases_Alice:0,bases_Bob:0,bases_Eve:0\n",
      "00000\n",
      "[1.0]\n",
      "120/128\n",
      "Execution time:  0.000152\n",
      "key:0,bases_Alice:0,bases_Bob:0,bases_Eve:0\n",
      "00001\n",
      "[1.0]\n",
      "121/128\n",
      "Execution time:  0.000152\n",
      "key:0,bases_Alice:0,bases_Bob:0,bases_Eve:0\n",
      "00000\n",
      "[1.0]\n",
      "122/128\n",
      "Execution time:  0.000152\n",
      "key:0,bases_Alice:1,bases_Bob:1,bases_Eve:1\n",
      "00001\n",
      "[1.0]\n",
      "123/128\n",
      "Execution time:  0.000152\n",
      "key:1,bases_Alice:1,bases_Bob:1,bases_Eve:1\n",
      "00100\n",
      "[1.0]\n",
      "124/128\n",
      "Execution time:  0.000152\n",
      "key:0,bases_Alice:0,bases_Bob:0,bases_Eve:0\n",
      "00000\n",
      "[1.0]\n",
      "125/128\n",
      "Execution time:  0.000152\n",
      "key:1,bases_Alice:0,bases_Bob:0,bases_Eve:0\n",
      "00001\n",
      "[1.0]\n",
      "126/128\n",
      "Execution time:  0.000152\n",
      "key:0,bases_Alice:1,bases_Bob:1,bases_Eve:1\n",
      "00100\n",
      "[1.0]\n",
      "127/128\n",
      "Execution time:  0.000152\n",
      "key:0,bases_Alice:1,bases_Bob:1,bases_Eve:1\n",
      "00000\n",
      "[1.0]\n",
      "128/128\n",
      "Execution time:  0.000152\n",
      "key:1,bases_Alice:1,bases_Bob:1,bases_Eve:1\n",
      "00100\n",
      "[1.0]\n"
     ]
    }
   ],
   "source": [
    "N_shots=1\n",
    "backend_type = qi.get_backend_type_by_name('Starmon-5')\n",
    "# backend_type = qi.get_backend_type_by_name('QX single-node simulator')\n",
    "\n",
    "data=[]\n",
    "index=0\n",
    "\n",
    "for param in zip(bitstring,bases_A,bases_B,bases_E):\n",
    "    qasm=QKD_QACM(*param)\n",
    "    result = qi.execute_qasm(qasm, backend_type=backend_type, number_of_shots=N_shots)\n",
    "    key=bin(int(list(result.get('histogram', {}).keys())[0]))[2:].zfill(5)\n",
    "    hist=list(result.get('histogram', {}).values())\n",
    "    data.append(key)\n",
    "    index+=1\n",
    "    \n",
    "    print(str(index)+\"/\"+str(n_key))\n",
    "    print(\"Execution time: \", result.get('execution_time_in_seconds',{}))\n",
    "    print(\"key:{0},bases_Alice:{1},bases_Bob:{2},bases_Eve:{3}\".format(*param))\n",
    "    print(key)\n",
    "    print(hist)"
   ]
  },
  {
   "cell_type": "code",
   "execution_count": 351,
   "metadata": {},
   "outputs": [
    {
     "data": {
      "text/html": [
       "<div>\n",
       "<style scoped>\n",
       "    .dataframe tbody tr th:only-of-type {\n",
       "        vertical-align: middle;\n",
       "    }\n",
       "\n",
       "    .dataframe tbody tr th {\n",
       "        vertical-align: top;\n",
       "    }\n",
       "\n",
       "    .dataframe thead th {\n",
       "        text-align: right;\n",
       "    }\n",
       "</style>\n",
       "<table border=\"1\" class=\"dataframe\">\n",
       "  <thead>\n",
       "    <tr style=\"text-align: right;\">\n",
       "      <th></th>\n",
       "      <th>key</th>\n",
       "      <th>bases</th>\n",
       "      <th>m_Bob</th>\n",
       "      <th>m_Eve</th>\n",
       "    </tr>\n",
       "  </thead>\n",
       "  <tbody>\n",
       "    <tr>\n",
       "      <th>0</th>\n",
       "      <td>0</td>\n",
       "      <td>Z</td>\n",
       "      <td>1</td>\n",
       "      <td>0</td>\n",
       "    </tr>\n",
       "    <tr>\n",
       "      <th>1</th>\n",
       "      <td>1</td>\n",
       "      <td>X</td>\n",
       "      <td>1</td>\n",
       "      <td>0</td>\n",
       "    </tr>\n",
       "    <tr>\n",
       "      <th>2</th>\n",
       "      <td>0</td>\n",
       "      <td>X</td>\n",
       "      <td>0</td>\n",
       "      <td>1</td>\n",
       "    </tr>\n",
       "    <tr>\n",
       "      <th>3</th>\n",
       "      <td>1</td>\n",
       "      <td>X</td>\n",
       "      <td>1</td>\n",
       "      <td>1</td>\n",
       "    </tr>\n",
       "    <tr>\n",
       "      <th>4</th>\n",
       "      <td>0</td>\n",
       "      <td>Z</td>\n",
       "      <td>0</td>\n",
       "      <td>0</td>\n",
       "    </tr>\n",
       "  </tbody>\n",
       "</table>\n",
       "</div>"
      ],
      "text/plain": [
       "  key bases m_Bob m_Eve\n",
       "0   0     Z     1     0\n",
       "1   1     X     1     0\n",
       "2   0     X     0     1\n",
       "3   1     X     1     1\n",
       "4   0     Z     0     0"
      ]
     },
     "execution_count": 351,
     "metadata": {},
     "output_type": "execute_result"
    }
   ],
   "source": [
    "data_sheet_128=DataFramet=pd.DataFrame(\\\n",
    "    data=np.vstack([bitstring,to_XZ(bases_A),list(map(lambda x: x[2], np.array(data))),list(map(lambda x: x[4], np.array(data)))]).transpose(),\\\n",
    "    columns=[\"key\",\"bases\",\"m_Bob\",\"m_Eve\"])\n",
    "data_sheet_128.head()"
   ]
  },
  {
   "cell_type": "code",
   "execution_count": 352,
   "metadata": {},
   "outputs": [],
   "source": [
    "data_sheet_128.to_excel(\"QKD_Simulation_128.xlsx\")"
   ]
  },
  {
   "cell_type": "code",
   "execution_count": 2,
   "metadata": {},
   "outputs": [],
   "source": [
    "data_sheet_128=pd.read_excel(\"QKD_Simulation_128.xlsx\")"
   ]
  },
  {
   "cell_type": "code",
   "execution_count": 6,
   "metadata": {},
   "outputs": [
    {
     "data": {
      "text/plain": [
       "87"
      ]
     },
     "execution_count": 6,
     "metadata": {},
     "output_type": "execute_result"
    }
   ],
   "source": [
    "sum(data_sheet_128[\"m_Bob\"]==data_sheet_128[\"key\"])"
   ]
  },
  {
   "cell_type": "code",
   "execution_count": 7,
   "metadata": {},
   "outputs": [
    {
     "data": {
      "text/plain": [
       "0.6796875"
      ]
     },
     "execution_count": 7,
     "metadata": {},
     "output_type": "execute_result"
    }
   ],
   "source": [
    "87/128"
   ]
  },
  {
   "cell_type": "code",
   "execution_count": 64,
   "metadata": {},
   "outputs": [],
   "source": [
    "def sample_error_rate(data_sheet,N):\n",
    "    sample=data_sheet.sample(N)\n",
    "    return sum(sample[\"m_Bob\"]!=sample[\"key\"])/N"
   ]
  },
  {
   "cell_type": "code",
   "execution_count": 65,
   "metadata": {},
   "outputs": [],
   "source": [
    "def sample_series(data_sheet,N_series,M):\n",
    "    L=len(N_series)\n",
    "    means=np.zeros(L)\n",
    "    devs=np.zeros(L)\n",
    "    for i in range(L):\n",
    "        samp=[sample_error_rate(data_sheet_128,N_series[i]) for m in range(M)]\n",
    "        means[i]=np.mean(samp)\n",
    "        devs[i]=np.std(samp)\n",
    "    return means,devs"
   ]
  },
  {
   "cell_type": "code",
   "execution_count": 66,
   "metadata": {},
   "outputs": [],
   "source": [
    "X=np.arange(8,65,4)\n",
    "Y,std=sample_series(data_sheet_128,X,20)"
   ]
  },
  {
   "cell_type": "code",
   "execution_count": 67,
   "metadata": {},
   "outputs": [
    {
     "data": {
      "text/plain": [
       "<ErrorbarContainer object of 3 artists>"
      ]
     },
     "execution_count": 67,
     "metadata": {},
     "output_type": "execute_result"
    },
    {
     "data": {
      "image/png": "[encoded data removed]",
      "text/plain": [
       "<Figure size 720x480 with 1 Axes>"
      ]
     },
     "metadata": {
      "needs_background": "light"
     },
     "output_type": "display_data"
    }
   ],
   "source": [
    "plt.figure(dpi=120)\n",
    "plt.xlabel(\"Sampling Size\")\n",
    "plt.ylabel(\"Error Rate\")\n",
    "plt.errorbar(x=X,y=Y,yerr=std,marker=\"o\",linestyle='--')"
   ]
  },
  {
   "cell_type": "code",
   "execution_count": 68,
   "metadata": {},
   "outputs": [
    {
     "data": {
      "text/plain": [
       "(0.32463993529618523, 0.007156819033395263)"
      ]
     },
     "execution_count": 68,
     "metadata": {},
     "output_type": "execute_result"
    }
   ],
   "source": [
    "(Y.mean(),Y.std())"
   ]
  },
  {
   "cell_type": "markdown",
   "metadata": {},
   "source": [
    "**QKD with 256 key length**"
   ]
  },
  {
   "cell_type": "code",
   "execution_count": 7,
   "metadata": {},
   "outputs": [],
   "source": [
    "n_key=256\n",
    "bitstring = np.random.randint(2,size=n_key)\n",
    "bases_A=np.random.randint(2,size=n_key)\n",
    "bases_B=bases_A.copy()\n",
    "# bases_B=np.random.randint(2,size=n_key)\n",
    "bases_E=bases_B.copy() # assume quantum memory"
   ]
  },
  {
   "cell_type": "code",
   "execution_count": null,
   "metadata": {},
   "outputs": [],
   "source": [
    "N_shots=1\n",
    "backend_type = qi.get_backend_type_by_name('Starmon-5')\n",
    "# backend_type = qi.get_backend_type_by_name('QX single-node simulator')\n",
    "\n",
    "# data2=[]\n",
    "index=0\n",
    "\n",
    "for param in zip(bitstring,bases_A,bases_B,bases_E):\n",
    "    if index<146:\n",
    "        index+=1\n",
    "    else:\n",
    "        qasm=QKD_QACM(*param)\n",
    "        result = qi.execute_qasm(qasm, backend_type=backend_type, number_of_shots=N_shots)\n",
    "        key=bin(int(list(result.get('histogram', {}).keys())[0]))[2:].zfill(5)\n",
    "        hist=list(result.get('histogram', {}).values())\n",
    "        data.append(key)\n",
    "        index+=1\n",
    "\n",
    "        print(str(index)+\"/\"+str(n_key))\n",
    "        print(\"Execution time: \", result.get('execution_time_in_seconds',{}))\n",
    "        print(\"key:{0},bases_Alice:{1},bases_Bob:{2},bases_Eve:{3}\".format(*param))\n",
    "        print(key)\n",
    "        print(hist)"
   ]
  },
  {
   "cell_type": "code",
   "execution_count": 21,
   "metadata": {},
   "outputs": [
    {
     "data": {
      "text/plain": [
       "145"
      ]
     },
     "execution_count": 21,
     "metadata": {},
     "output_type": "execute_result"
    }
   ],
   "source": [
    "len(data)"
   ]
  },
  {
   "cell_type": "code",
   "execution_count": 25,
   "metadata": {},
   "outputs": [],
   "source": [
    "data_sheet=DataFramet=pd.DataFrame(\\\n",
    "    data=np.vstack([bitstring[:145],to_XZ(bases_A)[:145],list(map(lambda x: x[2], np.array(data))),list(map(lambda x: x[4], np.array(data)))]).transpose(),\\\n",
    "    columns=[\"key\",\"bases\",\"m_Bob\",\"m_Eve\"])\n",
    "data_sheet.head()\n",
    "\n",
    "data_sheet.to_excel(\"QKD_Simulation_145.xlsx\")"
   ]
  },
  {
   "cell_type": "code",
   "execution_count": 27,
   "metadata": {},
   "outputs": [
    {
     "data": {
      "text/plain": [
       "97"
      ]
     },
     "execution_count": 27,
     "metadata": {},
     "output_type": "execute_result"
    }
   ],
   "source": [
    "sum(data_sheet[\"m_Bob\"]==data_sheet[\"key\"])"
   ]
  },
  {
   "cell_type": "code",
   "execution_count": 69,
   "metadata": {},
   "outputs": [],
   "source": [
    "data_sheet_145=pd.read_excel(\"QKD_Simulation_145.xlsx\")"
   ]
  },
  {
   "cell_type": "code",
   "execution_count": 70,
   "metadata": {},
   "outputs": [
    {
     "data": {
      "text/plain": [
       "<ErrorbarContainer object of 3 artists>"
      ]
     },
     "execution_count": 70,
     "metadata": {},
     "output_type": "execute_result"
    },
    {
     "data": {
      "image/png": "[encoded data removed]",
      "text/plain": [
       "<Figure size 720x480 with 1 Axes>"
      ]
     },
     "metadata": {
      "needs_background": "light"
     },
     "output_type": "display_data"
    }
   ],
   "source": [
    "X=np.arange(8,65,4)\n",
    "Y,std=sample_series(data_sheet_145,X,20)\n",
    "\n",
    "plt.figure(dpi=120)\n",
    "plt.xlabel(\"Sampling Size\")\n",
    "plt.ylabel(\"Error Rate\")\n",
    "plt.title(\"Sampling Error Rate for 145bit QKD\")\n",
    "plt.errorbar(x=X,y=Y,yerr=std,marker=\"o\",linestyle='--')\n"
   ]
  },
  {
   "cell_type": "code",
   "execution_count": 71,
   "metadata": {},
   "outputs": [
    {
     "data": {
      "text/plain": [
       "(0.3220991820679321, 0.020979303517410383)"
      ]
     },
     "execution_count": 71,
     "metadata": {},
     "output_type": "execute_result"
    }
   ],
   "source": [
    "(Y.mean(),Y.std())"
   ]
  },
  {
   "cell_type": "markdown",
   "metadata": {},
   "source": [
    "Find the key by take same measurement bases"
   ]
  },
  {
   "cell_type": "code",
   "execution_count": 357,
   "metadata": {},
   "outputs": [],
   "source": [
    "data_sheet_64=pd.read_excel(\"QKD_Simulation_64.xlsx\")\n",
    "secure_key=bitstring[bases_A==bases_B]\n",
    "prob=data_sheet_64[bases_A==bases_B]"
   ]
  },
  {
   "cell_type": "code",
   "execution_count": 5,
   "metadata": {},
   "outputs": [],
   "source": [
    "data_sheet_145=pd.read_excel(\"QKD_Simulation_145.xlsx\")"
   ]
  },
  {
   "cell_type": "code",
   "execution_count": 6,
   "metadata": {},
   "outputs": [],
   "source": [
    "data_sheet_145.to_csv(\"QKD_Simulation_145.csv\")"
   ]
  },
  {
   "cell_type": "markdown",
   "metadata": {},
   "source": [
    "Assume Alice and Bob preserve half of the key for secure check.\n",
    "\n",
    "Find the probability of Eve get the key without being noticed."
   ]
  },
  {
   "cell_type": "code",
   "execution_count": 237,
   "metadata": {},
   "outputs": [],
   "source": [
    "def get_success_prob(bit_string,probs,p):\n",
    "    '''\n",
    "    prob: npndarray for probability distribution\n",
    "    p: number of bit to be check in public channel\n",
    "    '''\n",
    "    res=1\n",
    "    undetected=1\n",
    "    \n",
    "    for (k,p) in zip(key[:p],probs[:p]):\n",
    "        res*=p[k*3] # with 00 or 11\n",
    "        undetected*=p[k*x3]+p[k+1] # k+1=01 or 10\n",
    "    return res,undetected"
   ]
  },
  {
   "cell_type": "code",
   "execution_count": 354,
   "metadata": {
    "scrolled": true
   },
   "outputs": [
    {
     "data": {
      "text/plain": [
       "87"
      ]
     },
     "execution_count": 354,
     "metadata": {},
     "output_type": "execute_result"
    }
   ],
   "source": [
    "sum(daxta_sheet[\"m_Bob\"]==data_sheet[\"key\"])"
   ]
  },
  {
   "cell_type": "code",
   "execution_count": 319,
   "metadata": {
    "scrolled": true
   },
   "outputs": [
    {
     "data": {
      "text/plain": [
       "<matplotlib.collections.PathCollection at 0x7f81a2e7c810>"
      ]
     },
     "execution_count": 319,
     "metadata": {},
     "output_type": "execute_result"
    },
    {
     "data": {
      "image/png": "[encoded data removed]",
      "text/plain": [
       "<Figure size 720x480 with 1 Axes>"
      ]
     },
     "metadata": {
      "needs_background": "light"
     },
     "output_type": "display_data"
    }
   ],
   "source": [
    "f=plt.figure()\n",
    "f.dpi=120\n",
    "plt.scatter(x=np.arange(1,m),y=eve_probs[:,1])\n",
    "plt.scatter(x=np.arange(1,m),y=eve_probs[:,0])"
   ]
  },
  {
   "cell_type": "code",
   "execution_count": 306,
   "metadata": {},
   "outputs": [
    {
     "name": "stdout",
     "output_type": "stream",
     "text": [
      "(0.5799815781393921, 0.7396377034080442)\n",
      "(0.10189331530332366, 0.26538130440354024)\n",
      "(0.019139051871814135, 0.09623620163029452)\n",
      "(0.005170317781023412, 0.06175853635057161)\n",
      "(0.0003814048149487507, 0.015866191907780002)\n",
      "(2.8283679784550892e-05, 0.004206409248625315)\n",
      "(5.033384432842812e-06, 0.0014705116562642015)\n",
      "(1.3115545927424025e-06, 0.0009189688439476449)\n",
      "(2.416565155131671e-07, 0.000326197759725668)\n",
      "(1.0124071438218507e-07, 0.00024252274634403603)\n",
      "(2.5975705204034735e-08, 0.00015295358863052152)\n",
      "(1.0645488254350202e-08, 0.00011212743323171863)\n",
      "(2.5473805521914113e-09, 7.065020571768466e-05)\n",
      "(2.381619813193167e-10, 1.8600502926421095e-05)\n",
      "(8.170069122581292e-11, 1.0529194097414363e-05)\n"
     ]
    }
   ],
   "source": [
    "m=16\n",
    "eve_probs=[]\n",
    "\n",
    "for i in range(1,m):\n",
    "    p=get_success_prob(secure_key,prob.values,i)\n",
    "    eve_probs.append(p)\n",
    "    print(p)\n",
    "    \n",
    "eve_probs=np.array(eve_probs)"
   ]
  }
 ],
 "metadata": {
  "kernelspec": {
   "display_name": "Python 3",
   "language": "python",
   "name": "python3"
  },
  "language_info": {
   "codemirror_mode": {
    "name": "ipython",
    "version": 3
   },
   "file_extension": ".py",
   "mimetype": "text/x-python",
   "name": "python",
   "nbconvert_exporter": "python",
   "pygments_lexer": "ipython3",
   "version": "3.7.4"
  }
 },
 "nbformat": 4,
 "nbformat_minor": 4
}
